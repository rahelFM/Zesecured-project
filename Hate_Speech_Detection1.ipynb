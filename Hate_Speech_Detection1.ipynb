{
  "metadata": {
    "kernelspec": {
      "display_name": "Python 3",
      "name": "python3"
    },
    "language_info": {
      "name": "python",
      "version": "3.10.13",
      "mimetype": "text/x-python",
      "codemirror_mode": {
        "name": "ipython",
        "version": 3
      },
      "pygments_lexer": "ipython3",
      "nbconvert_exporter": "python",
      "file_extension": ".py"
    },
    "kaggle": {
      "accelerator": "nvidiaTeslaT4",
      "dataSources": [
        {
          "sourceId": 986425,
          "sourceType": "datasetVersion",
          "datasetId": 540042
        },
        {
          "sourceId": 1257215,
          "sourceType": "datasetVersion",
          "datasetId": 723100
        }
      ],
      "dockerImageVersionId": 30683,
      "isInternetEnabled": true,
      "language": "python",
      "sourceType": "notebook",
      "isGpuEnabled": true
    },
    "colab": {
      "provenance": [],
      "gpuType": "T4"
    },
    "accelerator": "GPU",
    "widgets": {
      "application/vnd.jupyter.widget-state+json": {
        "a4de288e11834e63ad634ce3e2809d3d": {
          "model_module": "@jupyter-widgets/controls",
          "model_name": "HBoxModel",
          "model_module_version": "1.5.0",
          "state": {
            "_dom_classes": [],
            "_model_module": "@jupyter-widgets/controls",
            "_model_module_version": "1.5.0",
            "_model_name": "HBoxModel",
            "_view_count": null,
            "_view_module": "@jupyter-widgets/controls",
            "_view_module_version": "1.5.0",
            "_view_name": "HBoxView",
            "box_style": "",
            "children": [
              "IPY_MODEL_bba2fd43f49744409bbee09434a85eaa",
              "IPY_MODEL_5b259bbd954e482cbf772dd502eedf94",
              "IPY_MODEL_18a9fcbeb1a34538a1d236e8d7190081"
            ],
            "layout": "IPY_MODEL_d912a6e7569a475dbd3ac47c4148dc1d"
          }
        },
        "bba2fd43f49744409bbee09434a85eaa": {
          "model_module": "@jupyter-widgets/controls",
          "model_name": "HTMLModel",
          "model_module_version": "1.5.0",
          "state": {
            "_dom_classes": [],
            "_model_module": "@jupyter-widgets/controls",
            "_model_module_version": "1.5.0",
            "_model_name": "HTMLModel",
            "_view_count": null,
            "_view_module": "@jupyter-widgets/controls",
            "_view_module_version": "1.5.0",
            "_view_name": "HTMLView",
            "description": "",
            "description_tooltip": null,
            "layout": "IPY_MODEL_70ca84989fef41939bd8f089334bffb1",
            "placeholder": "​",
            "style": "IPY_MODEL_e4cfcff9bbea4fecab724a05a50521ad",
            "value": "tokenizer_config.json: 100%"
          }
        },
        "5b259bbd954e482cbf772dd502eedf94": {
          "model_module": "@jupyter-widgets/controls",
          "model_name": "FloatProgressModel",
          "model_module_version": "1.5.0",
          "state": {
            "_dom_classes": [],
            "_model_module": "@jupyter-widgets/controls",
            "_model_module_version": "1.5.0",
            "_model_name": "FloatProgressModel",
            "_view_count": null,
            "_view_module": "@jupyter-widgets/controls",
            "_view_module_version": "1.5.0",
            "_view_name": "ProgressView",
            "bar_style": "success",
            "description": "",
            "description_tooltip": null,
            "layout": "IPY_MODEL_cccac646f04a417ab683962e44aaf90e",
            "max": 48,
            "min": 0,
            "orientation": "horizontal",
            "style": "IPY_MODEL_b94b397c0198440c91de11f0ee75e4e8",
            "value": 48
          }
        },
        "18a9fcbeb1a34538a1d236e8d7190081": {
          "model_module": "@jupyter-widgets/controls",
          "model_name": "HTMLModel",
          "model_module_version": "1.5.0",
          "state": {
            "_dom_classes": [],
            "_model_module": "@jupyter-widgets/controls",
            "_model_module_version": "1.5.0",
            "_model_name": "HTMLModel",
            "_view_count": null,
            "_view_module": "@jupyter-widgets/controls",
            "_view_module_version": "1.5.0",
            "_view_name": "HTMLView",
            "description": "",
            "description_tooltip": null,
            "layout": "IPY_MODEL_5d61bd3a664a47aabb8c32def298816b",
            "placeholder": "​",
            "style": "IPY_MODEL_ba8abecf41f446b3b1b2d6038e9183b0",
            "value": " 48.0/48.0 [00:00&lt;00:00, 2.54kB/s]"
          }
        },
        "d912a6e7569a475dbd3ac47c4148dc1d": {
          "model_module": "@jupyter-widgets/base",
          "model_name": "LayoutModel",
          "model_module_version": "1.2.0",
          "state": {
            "_model_module": "@jupyter-widgets/base",
            "_model_module_version": "1.2.0",
            "_model_name": "LayoutModel",
            "_view_count": null,
            "_view_module": "@jupyter-widgets/base",
            "_view_module_version": "1.2.0",
            "_view_name": "LayoutView",
            "align_content": null,
            "align_items": null,
            "align_self": null,
            "border": null,
            "bottom": null,
            "display": null,
            "flex": null,
            "flex_flow": null,
            "grid_area": null,
            "grid_auto_columns": null,
            "grid_auto_flow": null,
            "grid_auto_rows": null,
            "grid_column": null,
            "grid_gap": null,
            "grid_row": null,
            "grid_template_areas": null,
            "grid_template_columns": null,
            "grid_template_rows": null,
            "height": null,
            "justify_content": null,
            "justify_items": null,
            "left": null,
            "margin": null,
            "max_height": null,
            "max_width": null,
            "min_height": null,
            "min_width": null,
            "object_fit": null,
            "object_position": null,
            "order": null,
            "overflow": null,
            "overflow_x": null,
            "overflow_y": null,
            "padding": null,
            "right": null,
            "top": null,
            "visibility": null,
            "width": null
          }
        },
        "70ca84989fef41939bd8f089334bffb1": {
          "model_module": "@jupyter-widgets/base",
          "model_name": "LayoutModel",
          "model_module_version": "1.2.0",
          "state": {
            "_model_module": "@jupyter-widgets/base",
            "_model_module_version": "1.2.0",
            "_model_name": "LayoutModel",
            "_view_count": null,
            "_view_module": "@jupyter-widgets/base",
            "_view_module_version": "1.2.0",
            "_view_name": "LayoutView",
            "align_content": null,
            "align_items": null,
            "align_self": null,
            "border": null,
            "bottom": null,
            "display": null,
            "flex": null,
            "flex_flow": null,
            "grid_area": null,
            "grid_auto_columns": null,
            "grid_auto_flow": null,
            "grid_auto_rows": null,
            "grid_column": null,
            "grid_gap": null,
            "grid_row": null,
            "grid_template_areas": null,
            "grid_template_columns": null,
            "grid_template_rows": null,
            "height": null,
            "justify_content": null,
            "justify_items": null,
            "left": null,
            "margin": null,
            "max_height": null,
            "max_width": null,
            "min_height": null,
            "min_width": null,
            "object_fit": null,
            "object_position": null,
            "order": null,
            "overflow": null,
            "overflow_x": null,
            "overflow_y": null,
            "padding": null,
            "right": null,
            "top": null,
            "visibility": null,
            "width": null
          }
        },
        "e4cfcff9bbea4fecab724a05a50521ad": {
          "model_module": "@jupyter-widgets/controls",
          "model_name": "DescriptionStyleModel",
          "model_module_version": "1.5.0",
          "state": {
            "_model_module": "@jupyter-widgets/controls",
            "_model_module_version": "1.5.0",
            "_model_name": "DescriptionStyleModel",
            "_view_count": null,
            "_view_module": "@jupyter-widgets/base",
            "_view_module_version": "1.2.0",
            "_view_name": "StyleView",
            "description_width": ""
          }
        },
        "cccac646f04a417ab683962e44aaf90e": {
          "model_module": "@jupyter-widgets/base",
          "model_name": "LayoutModel",
          "model_module_version": "1.2.0",
          "state": {
            "_model_module": "@jupyter-widgets/base",
            "_model_module_version": "1.2.0",
            "_model_name": "LayoutModel",
            "_view_count": null,
            "_view_module": "@jupyter-widgets/base",
            "_view_module_version": "1.2.0",
            "_view_name": "LayoutView",
            "align_content": null,
            "align_items": null,
            "align_self": null,
            "border": null,
            "bottom": null,
            "display": null,
            "flex": null,
            "flex_flow": null,
            "grid_area": null,
            "grid_auto_columns": null,
            "grid_auto_flow": null,
            "grid_auto_rows": null,
            "grid_column": null,
            "grid_gap": null,
            "grid_row": null,
            "grid_template_areas": null,
            "grid_template_columns": null,
            "grid_template_rows": null,
            "height": null,
            "justify_content": null,
            "justify_items": null,
            "left": null,
            "margin": null,
            "max_height": null,
            "max_width": null,
            "min_height": null,
            "min_width": null,
            "object_fit": null,
            "object_position": null,
            "order": null,
            "overflow": null,
            "overflow_x": null,
            "overflow_y": null,
            "padding": null,
            "right": null,
            "top": null,
            "visibility": null,
            "width": null
          }
        },
        "b94b397c0198440c91de11f0ee75e4e8": {
          "model_module": "@jupyter-widgets/controls",
          "model_name": "ProgressStyleModel",
          "model_module_version": "1.5.0",
          "state": {
            "_model_module": "@jupyter-widgets/controls",
            "_model_module_version": "1.5.0",
            "_model_name": "ProgressStyleModel",
            "_view_count": null,
            "_view_module": "@jupyter-widgets/base",
            "_view_module_version": "1.2.0",
            "_view_name": "StyleView",
            "bar_color": null,
            "description_width": ""
          }
        },
        "5d61bd3a664a47aabb8c32def298816b": {
          "model_module": "@jupyter-widgets/base",
          "model_name": "LayoutModel",
          "model_module_version": "1.2.0",
          "state": {
            "_model_module": "@jupyter-widgets/base",
            "_model_module_version": "1.2.0",
            "_model_name": "LayoutModel",
            "_view_count": null,
            "_view_module": "@jupyter-widgets/base",
            "_view_module_version": "1.2.0",
            "_view_name": "LayoutView",
            "align_content": null,
            "align_items": null,
            "align_self": null,
            "border": null,
            "bottom": null,
            "display": null,
            "flex": null,
            "flex_flow": null,
            "grid_area": null,
            "grid_auto_columns": null,
            "grid_auto_flow": null,
            "grid_auto_rows": null,
            "grid_column": null,
            "grid_gap": null,
            "grid_row": null,
            "grid_template_areas": null,
            "grid_template_columns": null,
            "grid_template_rows": null,
            "height": null,
            "justify_content": null,
            "justify_items": null,
            "left": null,
            "margin": null,
            "max_height": null,
            "max_width": null,
            "min_height": null,
            "min_width": null,
            "object_fit": null,
            "object_position": null,
            "order": null,
            "overflow": null,
            "overflow_x": null,
            "overflow_y": null,
            "padding": null,
            "right": null,
            "top": null,
            "visibility": null,
            "width": null
          }
        },
        "ba8abecf41f446b3b1b2d6038e9183b0": {
          "model_module": "@jupyter-widgets/controls",
          "model_name": "DescriptionStyleModel",
          "model_module_version": "1.5.0",
          "state": {
            "_model_module": "@jupyter-widgets/controls",
            "_model_module_version": "1.5.0",
            "_model_name": "DescriptionStyleModel",
            "_view_count": null,
            "_view_module": "@jupyter-widgets/base",
            "_view_module_version": "1.2.0",
            "_view_name": "StyleView",
            "description_width": ""
          }
        },
        "6850e4f132f54d35b911d114e1ac448b": {
          "model_module": "@jupyter-widgets/controls",
          "model_name": "HBoxModel",
          "model_module_version": "1.5.0",
          "state": {
            "_dom_classes": [],
            "_model_module": "@jupyter-widgets/controls",
            "_model_module_version": "1.5.0",
            "_model_name": "HBoxModel",
            "_view_count": null,
            "_view_module": "@jupyter-widgets/controls",
            "_view_module_version": "1.5.0",
            "_view_name": "HBoxView",
            "box_style": "",
            "children": [
              "IPY_MODEL_3f26e8b75640449d85e8c6123c4bcfce",
              "IPY_MODEL_fdd50ef7bb0642669028b27ff99798f2",
              "IPY_MODEL_79a18543bf8f4dbcbbffd13297ae61d3"
            ],
            "layout": "IPY_MODEL_c7a91d333f2f434a95293b7af5ffb14c"
          }
        },
        "3f26e8b75640449d85e8c6123c4bcfce": {
          "model_module": "@jupyter-widgets/controls",
          "model_name": "HTMLModel",
          "model_module_version": "1.5.0",
          "state": {
            "_dom_classes": [],
            "_model_module": "@jupyter-widgets/controls",
            "_model_module_version": "1.5.0",
            "_model_name": "HTMLModel",
            "_view_count": null,
            "_view_module": "@jupyter-widgets/controls",
            "_view_module_version": "1.5.0",
            "_view_name": "HTMLView",
            "description": "",
            "description_tooltip": null,
            "layout": "IPY_MODEL_7ad8162b6da14fe69b3f3ee40c7f8ecd",
            "placeholder": "​",
            "style": "IPY_MODEL_d2af9f1fe7ed4143bf0db3d2f476a0d8",
            "value": "vocab.txt: 100%"
          }
        },
        "fdd50ef7bb0642669028b27ff99798f2": {
          "model_module": "@jupyter-widgets/controls",
          "model_name": "FloatProgressModel",
          "model_module_version": "1.5.0",
          "state": {
            "_dom_classes": [],
            "_model_module": "@jupyter-widgets/controls",
            "_model_module_version": "1.5.0",
            "_model_name": "FloatProgressModel",
            "_view_count": null,
            "_view_module": "@jupyter-widgets/controls",
            "_view_module_version": "1.5.0",
            "_view_name": "ProgressView",
            "bar_style": "success",
            "description": "",
            "description_tooltip": null,
            "layout": "IPY_MODEL_3a0cdf9b518b4603bb3036235f18d197",
            "max": 231508,
            "min": 0,
            "orientation": "horizontal",
            "style": "IPY_MODEL_be698435389942929b9eea7a391cb780",
            "value": 231508
          }
        },
        "79a18543bf8f4dbcbbffd13297ae61d3": {
          "model_module": "@jupyter-widgets/controls",
          "model_name": "HTMLModel",
          "model_module_version": "1.5.0",
          "state": {
            "_dom_classes": [],
            "_model_module": "@jupyter-widgets/controls",
            "_model_module_version": "1.5.0",
            "_model_name": "HTMLModel",
            "_view_count": null,
            "_view_module": "@jupyter-widgets/controls",
            "_view_module_version": "1.5.0",
            "_view_name": "HTMLView",
            "description": "",
            "description_tooltip": null,
            "layout": "IPY_MODEL_2fee5fa058564b60b7519bd81ad3e608",
            "placeholder": "​",
            "style": "IPY_MODEL_59e87db9fd2f4e6dbd15977e3d18f554",
            "value": " 232k/232k [00:00&lt;00:00, 2.92MB/s]"
          }
        },
        "c7a91d333f2f434a95293b7af5ffb14c": {
          "model_module": "@jupyter-widgets/base",
          "model_name": "LayoutModel",
          "model_module_version": "1.2.0",
          "state": {
            "_model_module": "@jupyter-widgets/base",
            "_model_module_version": "1.2.0",
            "_model_name": "LayoutModel",
            "_view_count": null,
            "_view_module": "@jupyter-widgets/base",
            "_view_module_version": "1.2.0",
            "_view_name": "LayoutView",
            "align_content": null,
            "align_items": null,
            "align_self": null,
            "border": null,
            "bottom": null,
            "display": null,
            "flex": null,
            "flex_flow": null,
            "grid_area": null,
            "grid_auto_columns": null,
            "grid_auto_flow": null,
            "grid_auto_rows": null,
            "grid_column": null,
            "grid_gap": null,
            "grid_row": null,
            "grid_template_areas": null,
            "grid_template_columns": null,
            "grid_template_rows": null,
            "height": null,
            "justify_content": null,
            "justify_items": null,
            "left": null,
            "margin": null,
            "max_height": null,
            "max_width": null,
            "min_height": null,
            "min_width": null,
            "object_fit": null,
            "object_position": null,
            "order": null,
            "overflow": null,
            "overflow_x": null,
            "overflow_y": null,
            "padding": null,
            "right": null,
            "top": null,
            "visibility": null,
            "width": null
          }
        },
        "7ad8162b6da14fe69b3f3ee40c7f8ecd": {
          "model_module": "@jupyter-widgets/base",
          "model_name": "LayoutModel",
          "model_module_version": "1.2.0",
          "state": {
            "_model_module": "@jupyter-widgets/base",
            "_model_module_version": "1.2.0",
            "_model_name": "LayoutModel",
            "_view_count": null,
            "_view_module": "@jupyter-widgets/base",
            "_view_module_version": "1.2.0",
            "_view_name": "LayoutView",
            "align_content": null,
            "align_items": null,
            "align_self": null,
            "border": null,
            "bottom": null,
            "display": null,
            "flex": null,
            "flex_flow": null,
            "grid_area": null,
            "grid_auto_columns": null,
            "grid_auto_flow": null,
            "grid_auto_rows": null,
            "grid_column": null,
            "grid_gap": null,
            "grid_row": null,
            "grid_template_areas": null,
            "grid_template_columns": null,
            "grid_template_rows": null,
            "height": null,
            "justify_content": null,
            "justify_items": null,
            "left": null,
            "margin": null,
            "max_height": null,
            "max_width": null,
            "min_height": null,
            "min_width": null,
            "object_fit": null,
            "object_position": null,
            "order": null,
            "overflow": null,
            "overflow_x": null,
            "overflow_y": null,
            "padding": null,
            "right": null,
            "top": null,
            "visibility": null,
            "width": null
          }
        },
        "d2af9f1fe7ed4143bf0db3d2f476a0d8": {
          "model_module": "@jupyter-widgets/controls",
          "model_name": "DescriptionStyleModel",
          "model_module_version": "1.5.0",
          "state": {
            "_model_module": "@jupyter-widgets/controls",
            "_model_module_version": "1.5.0",
            "_model_name": "DescriptionStyleModel",
            "_view_count": null,
            "_view_module": "@jupyter-widgets/base",
            "_view_module_version": "1.2.0",
            "_view_name": "StyleView",
            "description_width": ""
          }
        },
        "3a0cdf9b518b4603bb3036235f18d197": {
          "model_module": "@jupyter-widgets/base",
          "model_name": "LayoutModel",
          "model_module_version": "1.2.0",
          "state": {
            "_model_module": "@jupyter-widgets/base",
            "_model_module_version": "1.2.0",
            "_model_name": "LayoutModel",
            "_view_count": null,
            "_view_module": "@jupyter-widgets/base",
            "_view_module_version": "1.2.0",
            "_view_name": "LayoutView",
            "align_content": null,
            "align_items": null,
            "align_self": null,
            "border": null,
            "bottom": null,
            "display": null,
            "flex": null,
            "flex_flow": null,
            "grid_area": null,
            "grid_auto_columns": null,
            "grid_auto_flow": null,
            "grid_auto_rows": null,
            "grid_column": null,
            "grid_gap": null,
            "grid_row": null,
            "grid_template_areas": null,
            "grid_template_columns": null,
            "grid_template_rows": null,
            "height": null,
            "justify_content": null,
            "justify_items": null,
            "left": null,
            "margin": null,
            "max_height": null,
            "max_width": null,
            "min_height": null,
            "min_width": null,
            "object_fit": null,
            "object_position": null,
            "order": null,
            "overflow": null,
            "overflow_x": null,
            "overflow_y": null,
            "padding": null,
            "right": null,
            "top": null,
            "visibility": null,
            "width": null
          }
        },
        "be698435389942929b9eea7a391cb780": {
          "model_module": "@jupyter-widgets/controls",
          "model_name": "ProgressStyleModel",
          "model_module_version": "1.5.0",
          "state": {
            "_model_module": "@jupyter-widgets/controls",
            "_model_module_version": "1.5.0",
            "_model_name": "ProgressStyleModel",
            "_view_count": null,
            "_view_module": "@jupyter-widgets/base",
            "_view_module_version": "1.2.0",
            "_view_name": "StyleView",
            "bar_color": null,
            "description_width": ""
          }
        },
        "2fee5fa058564b60b7519bd81ad3e608": {
          "model_module": "@jupyter-widgets/base",
          "model_name": "LayoutModel",
          "model_module_version": "1.2.0",
          "state": {
            "_model_module": "@jupyter-widgets/base",
            "_model_module_version": "1.2.0",
            "_model_name": "LayoutModel",
            "_view_count": null,
            "_view_module": "@jupyter-widgets/base",
            "_view_module_version": "1.2.0",
            "_view_name": "LayoutView",
            "align_content": null,
            "align_items": null,
            "align_self": null,
            "border": null,
            "bottom": null,
            "display": null,
            "flex": null,
            "flex_flow": null,
            "grid_area": null,
            "grid_auto_columns": null,
            "grid_auto_flow": null,
            "grid_auto_rows": null,
            "grid_column": null,
            "grid_gap": null,
            "grid_row": null,
            "grid_template_areas": null,
            "grid_template_columns": null,
            "grid_template_rows": null,
            "height": null,
            "justify_content": null,
            "justify_items": null,
            "left": null,
            "margin": null,
            "max_height": null,
            "max_width": null,
            "min_height": null,
            "min_width": null,
            "object_fit": null,
            "object_position": null,
            "order": null,
            "overflow": null,
            "overflow_x": null,
            "overflow_y": null,
            "padding": null,
            "right": null,
            "top": null,
            "visibility": null,
            "width": null
          }
        },
        "59e87db9fd2f4e6dbd15977e3d18f554": {
          "model_module": "@jupyter-widgets/controls",
          "model_name": "DescriptionStyleModel",
          "model_module_version": "1.5.0",
          "state": {
            "_model_module": "@jupyter-widgets/controls",
            "_model_module_version": "1.5.0",
            "_model_name": "DescriptionStyleModel",
            "_view_count": null,
            "_view_module": "@jupyter-widgets/base",
            "_view_module_version": "1.2.0",
            "_view_name": "StyleView",
            "description_width": ""
          }
        },
        "0137dea68a4b445ca7c1b51ef79d6767": {
          "model_module": "@jupyter-widgets/controls",
          "model_name": "HBoxModel",
          "model_module_version": "1.5.0",
          "state": {
            "_dom_classes": [],
            "_model_module": "@jupyter-widgets/controls",
            "_model_module_version": "1.5.0",
            "_model_name": "HBoxModel",
            "_view_count": null,
            "_view_module": "@jupyter-widgets/controls",
            "_view_module_version": "1.5.0",
            "_view_name": "HBoxView",
            "box_style": "",
            "children": [
              "IPY_MODEL_41a323fda52949d78b6b20cc9c7918ee",
              "IPY_MODEL_065945767c8c4d8fba9d8b301c5e58c9",
              "IPY_MODEL_2c7625354aae4d7d87aad7712ce056e3"
            ],
            "layout": "IPY_MODEL_7100f0f801494eac83dd4b1f3a0c6e3c"
          }
        },
        "41a323fda52949d78b6b20cc9c7918ee": {
          "model_module": "@jupyter-widgets/controls",
          "model_name": "HTMLModel",
          "model_module_version": "1.5.0",
          "state": {
            "_dom_classes": [],
            "_model_module": "@jupyter-widgets/controls",
            "_model_module_version": "1.5.0",
            "_model_name": "HTMLModel",
            "_view_count": null,
            "_view_module": "@jupyter-widgets/controls",
            "_view_module_version": "1.5.0",
            "_view_name": "HTMLView",
            "description": "",
            "description_tooltip": null,
            "layout": "IPY_MODEL_6b89394ab26943bb9db9c1d49ed3597b",
            "placeholder": "​",
            "style": "IPY_MODEL_1bbc648df1ba443db1bcf18e21f48f46",
            "value": "tokenizer.json: 100%"
          }
        },
        "065945767c8c4d8fba9d8b301c5e58c9": {
          "model_module": "@jupyter-widgets/controls",
          "model_name": "FloatProgressModel",
          "model_module_version": "1.5.0",
          "state": {
            "_dom_classes": [],
            "_model_module": "@jupyter-widgets/controls",
            "_model_module_version": "1.5.0",
            "_model_name": "FloatProgressModel",
            "_view_count": null,
            "_view_module": "@jupyter-widgets/controls",
            "_view_module_version": "1.5.0",
            "_view_name": "ProgressView",
            "bar_style": "success",
            "description": "",
            "description_tooltip": null,
            "layout": "IPY_MODEL_af7813c85cb241a184e607ef1497a252",
            "max": 466062,
            "min": 0,
            "orientation": "horizontal",
            "style": "IPY_MODEL_91c6ebe29852448c8ad9c29c5ee4d7ba",
            "value": 466062
          }
        },
        "2c7625354aae4d7d87aad7712ce056e3": {
          "model_module": "@jupyter-widgets/controls",
          "model_name": "HTMLModel",
          "model_module_version": "1.5.0",
          "state": {
            "_dom_classes": [],
            "_model_module": "@jupyter-widgets/controls",
            "_model_module_version": "1.5.0",
            "_model_name": "HTMLModel",
            "_view_count": null,
            "_view_module": "@jupyter-widgets/controls",
            "_view_module_version": "1.5.0",
            "_view_name": "HTMLView",
            "description": "",
            "description_tooltip": null,
            "layout": "IPY_MODEL_190a12e29c654fac889294283a0878ad",
            "placeholder": "​",
            "style": "IPY_MODEL_891780e7dd734e9297ca98d0334e8267",
            "value": " 466k/466k [00:00&lt;00:00, 3.56MB/s]"
          }
        },
        "7100f0f801494eac83dd4b1f3a0c6e3c": {
          "model_module": "@jupyter-widgets/base",
          "model_name": "LayoutModel",
          "model_module_version": "1.2.0",
          "state": {
            "_model_module": "@jupyter-widgets/base",
            "_model_module_version": "1.2.0",
            "_model_name": "LayoutModel",
            "_view_count": null,
            "_view_module": "@jupyter-widgets/base",
            "_view_module_version": "1.2.0",
            "_view_name": "LayoutView",
            "align_content": null,
            "align_items": null,
            "align_self": null,
            "border": null,
            "bottom": null,
            "display": null,
            "flex": null,
            "flex_flow": null,
            "grid_area": null,
            "grid_auto_columns": null,
            "grid_auto_flow": null,
            "grid_auto_rows": null,
            "grid_column": null,
            "grid_gap": null,
            "grid_row": null,
            "grid_template_areas": null,
            "grid_template_columns": null,
            "grid_template_rows": null,
            "height": null,
            "justify_content": null,
            "justify_items": null,
            "left": null,
            "margin": null,
            "max_height": null,
            "max_width": null,
            "min_height": null,
            "min_width": null,
            "object_fit": null,
            "object_position": null,
            "order": null,
            "overflow": null,
            "overflow_x": null,
            "overflow_y": null,
            "padding": null,
            "right": null,
            "top": null,
            "visibility": null,
            "width": null
          }
        },
        "6b89394ab26943bb9db9c1d49ed3597b": {
          "model_module": "@jupyter-widgets/base",
          "model_name": "LayoutModel",
          "model_module_version": "1.2.0",
          "state": {
            "_model_module": "@jupyter-widgets/base",
            "_model_module_version": "1.2.0",
            "_model_name": "LayoutModel",
            "_view_count": null,
            "_view_module": "@jupyter-widgets/base",
            "_view_module_version": "1.2.0",
            "_view_name": "LayoutView",
            "align_content": null,
            "align_items": null,
            "align_self": null,
            "border": null,
            "bottom": null,
            "display": null,
            "flex": null,
            "flex_flow": null,
            "grid_area": null,
            "grid_auto_columns": null,
            "grid_auto_flow": null,
            "grid_auto_rows": null,
            "grid_column": null,
            "grid_gap": null,
            "grid_row": null,
            "grid_template_areas": null,
            "grid_template_columns": null,
            "grid_template_rows": null,
            "height": null,
            "justify_content": null,
            "justify_items": null,
            "left": null,
            "margin": null,
            "max_height": null,
            "max_width": null,
            "min_height": null,
            "min_width": null,
            "object_fit": null,
            "object_position": null,
            "order": null,
            "overflow": null,
            "overflow_x": null,
            "overflow_y": null,
            "padding": null,
            "right": null,
            "top": null,
            "visibility": null,
            "width": null
          }
        },
        "1bbc648df1ba443db1bcf18e21f48f46": {
          "model_module": "@jupyter-widgets/controls",
          "model_name": "DescriptionStyleModel",
          "model_module_version": "1.5.0",
          "state": {
            "_model_module": "@jupyter-widgets/controls",
            "_model_module_version": "1.5.0",
            "_model_name": "DescriptionStyleModel",
            "_view_count": null,
            "_view_module": "@jupyter-widgets/base",
            "_view_module_version": "1.2.0",
            "_view_name": "StyleView",
            "description_width": ""
          }
        },
        "af7813c85cb241a184e607ef1497a252": {
          "model_module": "@jupyter-widgets/base",
          "model_name": "LayoutModel",
          "model_module_version": "1.2.0",
          "state": {
            "_model_module": "@jupyter-widgets/base",
            "_model_module_version": "1.2.0",
            "_model_name": "LayoutModel",
            "_view_count": null,
            "_view_module": "@jupyter-widgets/base",
            "_view_module_version": "1.2.0",
            "_view_name": "LayoutView",
            "align_content": null,
            "align_items": null,
            "align_self": null,
            "border": null,
            "bottom": null,
            "display": null,
            "flex": null,
            "flex_flow": null,
            "grid_area": null,
            "grid_auto_columns": null,
            "grid_auto_flow": null,
            "grid_auto_rows": null,
            "grid_column": null,
            "grid_gap": null,
            "grid_row": null,
            "grid_template_areas": null,
            "grid_template_columns": null,
            "grid_template_rows": null,
            "height": null,
            "justify_content": null,
            "justify_items": null,
            "left": null,
            "margin": null,
            "max_height": null,
            "max_width": null,
            "min_height": null,
            "min_width": null,
            "object_fit": null,
            "object_position": null,
            "order": null,
            "overflow": null,
            "overflow_x": null,
            "overflow_y": null,
            "padding": null,
            "right": null,
            "top": null,
            "visibility": null,
            "width": null
          }
        },
        "91c6ebe29852448c8ad9c29c5ee4d7ba": {
          "model_module": "@jupyter-widgets/controls",
          "model_name": "ProgressStyleModel",
          "model_module_version": "1.5.0",
          "state": {
            "_model_module": "@jupyter-widgets/controls",
            "_model_module_version": "1.5.0",
            "_model_name": "ProgressStyleModel",
            "_view_count": null,
            "_view_module": "@jupyter-widgets/base",
            "_view_module_version": "1.2.0",
            "_view_name": "StyleView",
            "bar_color": null,
            "description_width": ""
          }
        },
        "190a12e29c654fac889294283a0878ad": {
          "model_module": "@jupyter-widgets/base",
          "model_name": "LayoutModel",
          "model_module_version": "1.2.0",
          "state": {
            "_model_module": "@jupyter-widgets/base",
            "_model_module_version": "1.2.0",
            "_model_name": "LayoutModel",
            "_view_count": null,
            "_view_module": "@jupyter-widgets/base",
            "_view_module_version": "1.2.0",
            "_view_name": "LayoutView",
            "align_content": null,
            "align_items": null,
            "align_self": null,
            "border": null,
            "bottom": null,
            "display": null,
            "flex": null,
            "flex_flow": null,
            "grid_area": null,
            "grid_auto_columns": null,
            "grid_auto_flow": null,
            "grid_auto_rows": null,
            "grid_column": null,
            "grid_gap": null,
            "grid_row": null,
            "grid_template_areas": null,
            "grid_template_columns": null,
            "grid_template_rows": null,
            "height": null,
            "justify_content": null,
            "justify_items": null,
            "left": null,
            "margin": null,
            "max_height": null,
            "max_width": null,
            "min_height": null,
            "min_width": null,
            "object_fit": null,
            "object_position": null,
            "order": null,
            "overflow": null,
            "overflow_x": null,
            "overflow_y": null,
            "padding": null,
            "right": null,
            "top": null,
            "visibility": null,
            "width": null
          }
        },
        "891780e7dd734e9297ca98d0334e8267": {
          "model_module": "@jupyter-widgets/controls",
          "model_name": "DescriptionStyleModel",
          "model_module_version": "1.5.0",
          "state": {
            "_model_module": "@jupyter-widgets/controls",
            "_model_module_version": "1.5.0",
            "_model_name": "DescriptionStyleModel",
            "_view_count": null,
            "_view_module": "@jupyter-widgets/base",
            "_view_module_version": "1.2.0",
            "_view_name": "StyleView",
            "description_width": ""
          }
        },
        "6cc4b1fc973547c2bbeef5e1fa8cb824": {
          "model_module": "@jupyter-widgets/controls",
          "model_name": "HBoxModel",
          "model_module_version": "1.5.0",
          "state": {
            "_dom_classes": [],
            "_model_module": "@jupyter-widgets/controls",
            "_model_module_version": "1.5.0",
            "_model_name": "HBoxModel",
            "_view_count": null,
            "_view_module": "@jupyter-widgets/controls",
            "_view_module_version": "1.5.0",
            "_view_name": "HBoxView",
            "box_style": "",
            "children": [
              "IPY_MODEL_83c602f4ada24588a49cfe69233179b9",
              "IPY_MODEL_cb921b14ed014bac878d765085384911",
              "IPY_MODEL_9c866a78a37e46a49154b346655c3c5b"
            ],
            "layout": "IPY_MODEL_738ab9a0ab064a0891a9bb86e4d409c8"
          }
        },
        "83c602f4ada24588a49cfe69233179b9": {
          "model_module": "@jupyter-widgets/controls",
          "model_name": "HTMLModel",
          "model_module_version": "1.5.0",
          "state": {
            "_dom_classes": [],
            "_model_module": "@jupyter-widgets/controls",
            "_model_module_version": "1.5.0",
            "_model_name": "HTMLModel",
            "_view_count": null,
            "_view_module": "@jupyter-widgets/controls",
            "_view_module_version": "1.5.0",
            "_view_name": "HTMLView",
            "description": "",
            "description_tooltip": null,
            "layout": "IPY_MODEL_95444e0f33b84959aba51e5a27848653",
            "placeholder": "​",
            "style": "IPY_MODEL_35653fe69e8d423494afc15c2c964250",
            "value": "config.json: 100%"
          }
        },
        "cb921b14ed014bac878d765085384911": {
          "model_module": "@jupyter-widgets/controls",
          "model_name": "FloatProgressModel",
          "model_module_version": "1.5.0",
          "state": {
            "_dom_classes": [],
            "_model_module": "@jupyter-widgets/controls",
            "_model_module_version": "1.5.0",
            "_model_name": "FloatProgressModel",
            "_view_count": null,
            "_view_module": "@jupyter-widgets/controls",
            "_view_module_version": "1.5.0",
            "_view_name": "ProgressView",
            "bar_style": "success",
            "description": "",
            "description_tooltip": null,
            "layout": "IPY_MODEL_76b54f11354e471fb8f5e5be0b8eea80",
            "max": 570,
            "min": 0,
            "orientation": "horizontal",
            "style": "IPY_MODEL_a2be7223097443d39f7d0c20ab216d33",
            "value": 570
          }
        },
        "9c866a78a37e46a49154b346655c3c5b": {
          "model_module": "@jupyter-widgets/controls",
          "model_name": "HTMLModel",
          "model_module_version": "1.5.0",
          "state": {
            "_dom_classes": [],
            "_model_module": "@jupyter-widgets/controls",
            "_model_module_version": "1.5.0",
            "_model_name": "HTMLModel",
            "_view_count": null,
            "_view_module": "@jupyter-widgets/controls",
            "_view_module_version": "1.5.0",
            "_view_name": "HTMLView",
            "description": "",
            "description_tooltip": null,
            "layout": "IPY_MODEL_69a8510fbe8646a79525032b59cbb3bf",
            "placeholder": "​",
            "style": "IPY_MODEL_21a398dbacc142d08e0d2aef3175b166",
            "value": " 570/570 [00:00&lt;00:00, 33.2kB/s]"
          }
        },
        "738ab9a0ab064a0891a9bb86e4d409c8": {
          "model_module": "@jupyter-widgets/base",
          "model_name": "LayoutModel",
          "model_module_version": "1.2.0",
          "state": {
            "_model_module": "@jupyter-widgets/base",
            "_model_module_version": "1.2.0",
            "_model_name": "LayoutModel",
            "_view_count": null,
            "_view_module": "@jupyter-widgets/base",
            "_view_module_version": "1.2.0",
            "_view_name": "LayoutView",
            "align_content": null,
            "align_items": null,
            "align_self": null,
            "border": null,
            "bottom": null,
            "display": null,
            "flex": null,
            "flex_flow": null,
            "grid_area": null,
            "grid_auto_columns": null,
            "grid_auto_flow": null,
            "grid_auto_rows": null,
            "grid_column": null,
            "grid_gap": null,
            "grid_row": null,
            "grid_template_areas": null,
            "grid_template_columns": null,
            "grid_template_rows": null,
            "height": null,
            "justify_content": null,
            "justify_items": null,
            "left": null,
            "margin": null,
            "max_height": null,
            "max_width": null,
            "min_height": null,
            "min_width": null,
            "object_fit": null,
            "object_position": null,
            "order": null,
            "overflow": null,
            "overflow_x": null,
            "overflow_y": null,
            "padding": null,
            "right": null,
            "top": null,
            "visibility": null,
            "width": null
          }
        },
        "95444e0f33b84959aba51e5a27848653": {
          "model_module": "@jupyter-widgets/base",
          "model_name": "LayoutModel",
          "model_module_version": "1.2.0",
          "state": {
            "_model_module": "@jupyter-widgets/base",
            "_model_module_version": "1.2.0",
            "_model_name": "LayoutModel",
            "_view_count": null,
            "_view_module": "@jupyter-widgets/base",
            "_view_module_version": "1.2.0",
            "_view_name": "LayoutView",
            "align_content": null,
            "align_items": null,
            "align_self": null,
            "border": null,
            "bottom": null,
            "display": null,
            "flex": null,
            "flex_flow": null,
            "grid_area": null,
            "grid_auto_columns": null,
            "grid_auto_flow": null,
            "grid_auto_rows": null,
            "grid_column": null,
            "grid_gap": null,
            "grid_row": null,
            "grid_template_areas": null,
            "grid_template_columns": null,
            "grid_template_rows": null,
            "height": null,
            "justify_content": null,
            "justify_items": null,
            "left": null,
            "margin": null,
            "max_height": null,
            "max_width": null,
            "min_height": null,
            "min_width": null,
            "object_fit": null,
            "object_position": null,
            "order": null,
            "overflow": null,
            "overflow_x": null,
            "overflow_y": null,
            "padding": null,
            "right": null,
            "top": null,
            "visibility": null,
            "width": null
          }
        },
        "35653fe69e8d423494afc15c2c964250": {
          "model_module": "@jupyter-widgets/controls",
          "model_name": "DescriptionStyleModel",
          "model_module_version": "1.5.0",
          "state": {
            "_model_module": "@jupyter-widgets/controls",
            "_model_module_version": "1.5.0",
            "_model_name": "DescriptionStyleModel",
            "_view_count": null,
            "_view_module": "@jupyter-widgets/base",
            "_view_module_version": "1.2.0",
            "_view_name": "StyleView",
            "description_width": ""
          }
        },
        "76b54f11354e471fb8f5e5be0b8eea80": {
          "model_module": "@jupyter-widgets/base",
          "model_name": "LayoutModel",
          "model_module_version": "1.2.0",
          "state": {
            "_model_module": "@jupyter-widgets/base",
            "_model_module_version": "1.2.0",
            "_model_name": "LayoutModel",
            "_view_count": null,
            "_view_module": "@jupyter-widgets/base",
            "_view_module_version": "1.2.0",
            "_view_name": "LayoutView",
            "align_content": null,
            "align_items": null,
            "align_self": null,
            "border": null,
            "bottom": null,
            "display": null,
            "flex": null,
            "flex_flow": null,
            "grid_area": null,
            "grid_auto_columns": null,
            "grid_auto_flow": null,
            "grid_auto_rows": null,
            "grid_column": null,
            "grid_gap": null,
            "grid_row": null,
            "grid_template_areas": null,
            "grid_template_columns": null,
            "grid_template_rows": null,
            "height": null,
            "justify_content": null,
            "justify_items": null,
            "left": null,
            "margin": null,
            "max_height": null,
            "max_width": null,
            "min_height": null,
            "min_width": null,
            "object_fit": null,
            "object_position": null,
            "order": null,
            "overflow": null,
            "overflow_x": null,
            "overflow_y": null,
            "padding": null,
            "right": null,
            "top": null,
            "visibility": null,
            "width": null
          }
        },
        "a2be7223097443d39f7d0c20ab216d33": {
          "model_module": "@jupyter-widgets/controls",
          "model_name": "ProgressStyleModel",
          "model_module_version": "1.5.0",
          "state": {
            "_model_module": "@jupyter-widgets/controls",
            "_model_module_version": "1.5.0",
            "_model_name": "ProgressStyleModel",
            "_view_count": null,
            "_view_module": "@jupyter-widgets/base",
            "_view_module_version": "1.2.0",
            "_view_name": "StyleView",
            "bar_color": null,
            "description_width": ""
          }
        },
        "69a8510fbe8646a79525032b59cbb3bf": {
          "model_module": "@jupyter-widgets/base",
          "model_name": "LayoutModel",
          "model_module_version": "1.2.0",
          "state": {
            "_model_module": "@jupyter-widgets/base",
            "_model_module_version": "1.2.0",
            "_model_name": "LayoutModel",
            "_view_count": null,
            "_view_module": "@jupyter-widgets/base",
            "_view_module_version": "1.2.0",
            "_view_name": "LayoutView",
            "align_content": null,
            "align_items": null,
            "align_self": null,
            "border": null,
            "bottom": null,
            "display": null,
            "flex": null,
            "flex_flow": null,
            "grid_area": null,
            "grid_auto_columns": null,
            "grid_auto_flow": null,
            "grid_auto_rows": null,
            "grid_column": null,
            "grid_gap": null,
            "grid_row": null,
            "grid_template_areas": null,
            "grid_template_columns": null,
            "grid_template_rows": null,
            "height": null,
            "justify_content": null,
            "justify_items": null,
            "left": null,
            "margin": null,
            "max_height": null,
            "max_width": null,
            "min_height": null,
            "min_width": null,
            "object_fit": null,
            "object_position": null,
            "order": null,
            "overflow": null,
            "overflow_x": null,
            "overflow_y": null,
            "padding": null,
            "right": null,
            "top": null,
            "visibility": null,
            "width": null
          }
        },
        "21a398dbacc142d08e0d2aef3175b166": {
          "model_module": "@jupyter-widgets/controls",
          "model_name": "DescriptionStyleModel",
          "model_module_version": "1.5.0",
          "state": {
            "_model_module": "@jupyter-widgets/controls",
            "_model_module_version": "1.5.0",
            "_model_name": "DescriptionStyleModel",
            "_view_count": null,
            "_view_module": "@jupyter-widgets/base",
            "_view_module_version": "1.2.0",
            "_view_name": "StyleView",
            "description_width": ""
          }
        },
        "6eeae62b1e4842d7a1b8c78e99b275e5": {
          "model_module": "@jupyter-widgets/controls",
          "model_name": "HBoxModel",
          "model_module_version": "1.5.0",
          "state": {
            "_dom_classes": [],
            "_model_module": "@jupyter-widgets/controls",
            "_model_module_version": "1.5.0",
            "_model_name": "HBoxModel",
            "_view_count": null,
            "_view_module": "@jupyter-widgets/controls",
            "_view_module_version": "1.5.0",
            "_view_name": "HBoxView",
            "box_style": "",
            "children": [
              "IPY_MODEL_9f757de6698146bc8ef020384a95f32a",
              "IPY_MODEL_f89cc5b78d894d72a9ecf7e26788f7f7",
              "IPY_MODEL_39df409ed0bd471d9685c146fbd517e2"
            ],
            "layout": "IPY_MODEL_e80ae71f66d54fa0b21232f610522d8f"
          }
        },
        "9f757de6698146bc8ef020384a95f32a": {
          "model_module": "@jupyter-widgets/controls",
          "model_name": "HTMLModel",
          "model_module_version": "1.5.0",
          "state": {
            "_dom_classes": [],
            "_model_module": "@jupyter-widgets/controls",
            "_model_module_version": "1.5.0",
            "_model_name": "HTMLModel",
            "_view_count": null,
            "_view_module": "@jupyter-widgets/controls",
            "_view_module_version": "1.5.0",
            "_view_name": "HTMLView",
            "description": "",
            "description_tooltip": null,
            "layout": "IPY_MODEL_93665bce2ec9405fbb2b23b392e9fcc0",
            "placeholder": "​",
            "style": "IPY_MODEL_a0ba5e31b0004e889683f6c748e74826",
            "value": "model.safetensors: 100%"
          }
        },
        "f89cc5b78d894d72a9ecf7e26788f7f7": {
          "model_module": "@jupyter-widgets/controls",
          "model_name": "FloatProgressModel",
          "model_module_version": "1.5.0",
          "state": {
            "_dom_classes": [],
            "_model_module": "@jupyter-widgets/controls",
            "_model_module_version": "1.5.0",
            "_model_name": "FloatProgressModel",
            "_view_count": null,
            "_view_module": "@jupyter-widgets/controls",
            "_view_module_version": "1.5.0",
            "_view_name": "ProgressView",
            "bar_style": "success",
            "description": "",
            "description_tooltip": null,
            "layout": "IPY_MODEL_2689a5241d474da0a84336387b1219f2",
            "max": 440449768,
            "min": 0,
            "orientation": "horizontal",
            "style": "IPY_MODEL_1c8be647391c48ccbfc82b88d7e15e8f",
            "value": 440449768
          }
        },
        "39df409ed0bd471d9685c146fbd517e2": {
          "model_module": "@jupyter-widgets/controls",
          "model_name": "HTMLModel",
          "model_module_version": "1.5.0",
          "state": {
            "_dom_classes": [],
            "_model_module": "@jupyter-widgets/controls",
            "_model_module_version": "1.5.0",
            "_model_name": "HTMLModel",
            "_view_count": null,
            "_view_module": "@jupyter-widgets/controls",
            "_view_module_version": "1.5.0",
            "_view_name": "HTMLView",
            "description": "",
            "description_tooltip": null,
            "layout": "IPY_MODEL_e264c3ee08d347879bb3d6ecc5e1407b",
            "placeholder": "​",
            "style": "IPY_MODEL_290b59ff7d80431ca8c0c5defbf8d725",
            "value": " 440M/440M [00:02&lt;00:00, 228MB/s]"
          }
        },
        "e80ae71f66d54fa0b21232f610522d8f": {
          "model_module": "@jupyter-widgets/base",
          "model_name": "LayoutModel",
          "model_module_version": "1.2.0",
          "state": {
            "_model_module": "@jupyter-widgets/base",
            "_model_module_version": "1.2.0",
            "_model_name": "LayoutModel",
            "_view_count": null,
            "_view_module": "@jupyter-widgets/base",
            "_view_module_version": "1.2.0",
            "_view_name": "LayoutView",
            "align_content": null,
            "align_items": null,
            "align_self": null,
            "border": null,
            "bottom": null,
            "display": null,
            "flex": null,
            "flex_flow": null,
            "grid_area": null,
            "grid_auto_columns": null,
            "grid_auto_flow": null,
            "grid_auto_rows": null,
            "grid_column": null,
            "grid_gap": null,
            "grid_row": null,
            "grid_template_areas": null,
            "grid_template_columns": null,
            "grid_template_rows": null,
            "height": null,
            "justify_content": null,
            "justify_items": null,
            "left": null,
            "margin": null,
            "max_height": null,
            "max_width": null,
            "min_height": null,
            "min_width": null,
            "object_fit": null,
            "object_position": null,
            "order": null,
            "overflow": null,
            "overflow_x": null,
            "overflow_y": null,
            "padding": null,
            "right": null,
            "top": null,
            "visibility": null,
            "width": null
          }
        },
        "93665bce2ec9405fbb2b23b392e9fcc0": {
          "model_module": "@jupyter-widgets/base",
          "model_name": "LayoutModel",
          "model_module_version": "1.2.0",
          "state": {
            "_model_module": "@jupyter-widgets/base",
            "_model_module_version": "1.2.0",
            "_model_name": "LayoutModel",
            "_view_count": null,
            "_view_module": "@jupyter-widgets/base",
            "_view_module_version": "1.2.0",
            "_view_name": "LayoutView",
            "align_content": null,
            "align_items": null,
            "align_self": null,
            "border": null,
            "bottom": null,
            "display": null,
            "flex": null,
            "flex_flow": null,
            "grid_area": null,
            "grid_auto_columns": null,
            "grid_auto_flow": null,
            "grid_auto_rows": null,
            "grid_column": null,
            "grid_gap": null,
            "grid_row": null,
            "grid_template_areas": null,
            "grid_template_columns": null,
            "grid_template_rows": null,
            "height": null,
            "justify_content": null,
            "justify_items": null,
            "left": null,
            "margin": null,
            "max_height": null,
            "max_width": null,
            "min_height": null,
            "min_width": null,
            "object_fit": null,
            "object_position": null,
            "order": null,
            "overflow": null,
            "overflow_x": null,
            "overflow_y": null,
            "padding": null,
            "right": null,
            "top": null,
            "visibility": null,
            "width": null
          }
        },
        "a0ba5e31b0004e889683f6c748e74826": {
          "model_module": "@jupyter-widgets/controls",
          "model_name": "DescriptionStyleModel",
          "model_module_version": "1.5.0",
          "state": {
            "_model_module": "@jupyter-widgets/controls",
            "_model_module_version": "1.5.0",
            "_model_name": "DescriptionStyleModel",
            "_view_count": null,
            "_view_module": "@jupyter-widgets/base",
            "_view_module_version": "1.2.0",
            "_view_name": "StyleView",
            "description_width": ""
          }
        },
        "2689a5241d474da0a84336387b1219f2": {
          "model_module": "@jupyter-widgets/base",
          "model_name": "LayoutModel",
          "model_module_version": "1.2.0",
          "state": {
            "_model_module": "@jupyter-widgets/base",
            "_model_module_version": "1.2.0",
            "_model_name": "LayoutModel",
            "_view_count": null,
            "_view_module": "@jupyter-widgets/base",
            "_view_module_version": "1.2.0",
            "_view_name": "LayoutView",
            "align_content": null,
            "align_items": null,
            "align_self": null,
            "border": null,
            "bottom": null,
            "display": null,
            "flex": null,
            "flex_flow": null,
            "grid_area": null,
            "grid_auto_columns": null,
            "grid_auto_flow": null,
            "grid_auto_rows": null,
            "grid_column": null,
            "grid_gap": null,
            "grid_row": null,
            "grid_template_areas": null,
            "grid_template_columns": null,
            "grid_template_rows": null,
            "height": null,
            "justify_content": null,
            "justify_items": null,
            "left": null,
            "margin": null,
            "max_height": null,
            "max_width": null,
            "min_height": null,
            "min_width": null,
            "object_fit": null,
            "object_position": null,
            "order": null,
            "overflow": null,
            "overflow_x": null,
            "overflow_y": null,
            "padding": null,
            "right": null,
            "top": null,
            "visibility": null,
            "width": null
          }
        },
        "1c8be647391c48ccbfc82b88d7e15e8f": {
          "model_module": "@jupyter-widgets/controls",
          "model_name": "ProgressStyleModel",
          "model_module_version": "1.5.0",
          "state": {
            "_model_module": "@jupyter-widgets/controls",
            "_model_module_version": "1.5.0",
            "_model_name": "ProgressStyleModel",
            "_view_count": null,
            "_view_module": "@jupyter-widgets/base",
            "_view_module_version": "1.2.0",
            "_view_name": "StyleView",
            "bar_color": null,
            "description_width": ""
          }
        },
        "e264c3ee08d347879bb3d6ecc5e1407b": {
          "model_module": "@jupyter-widgets/base",
          "model_name": "LayoutModel",
          "model_module_version": "1.2.0",
          "state": {
            "_model_module": "@jupyter-widgets/base",
            "_model_module_version": "1.2.0",
            "_model_name": "LayoutModel",
            "_view_count": null,
            "_view_module": "@jupyter-widgets/base",
            "_view_module_version": "1.2.0",
            "_view_name": "LayoutView",
            "align_content": null,
            "align_items": null,
            "align_self": null,
            "border": null,
            "bottom": null,
            "display": null,
            "flex": null,
            "flex_flow": null,
            "grid_area": null,
            "grid_auto_columns": null,
            "grid_auto_flow": null,
            "grid_auto_rows": null,
            "grid_column": null,
            "grid_gap": null,
            "grid_row": null,
            "grid_template_areas": null,
            "grid_template_columns": null,
            "grid_template_rows": null,
            "height": null,
            "justify_content": null,
            "justify_items": null,
            "left": null,
            "margin": null,
            "max_height": null,
            "max_width": null,
            "min_height": null,
            "min_width": null,
            "object_fit": null,
            "object_position": null,
            "order": null,
            "overflow": null,
            "overflow_x": null,
            "overflow_y": null,
            "padding": null,
            "right": null,
            "top": null,
            "visibility": null,
            "width": null
          }
        },
        "290b59ff7d80431ca8c0c5defbf8d725": {
          "model_module": "@jupyter-widgets/controls",
          "model_name": "DescriptionStyleModel",
          "model_module_version": "1.5.0",
          "state": {
            "_model_module": "@jupyter-widgets/controls",
            "_model_module_version": "1.5.0",
            "_model_name": "DescriptionStyleModel",
            "_view_count": null,
            "_view_module": "@jupyter-widgets/base",
            "_view_module_version": "1.2.0",
            "_view_name": "StyleView",
            "description_width": ""
          }
        }
      }
    }
  },
  "nbformat_minor": 0,
  "nbformat": 4,
  "cells": [
    {
      "cell_type": "code",
      "source": [
        "from google.colab import drive\n",
        "drive.mount('/content/drive')\n",
        "# Step 2: Import required libraries\n",
        "import zipfile\n",
        "import os"
      ],
      "metadata": {
        "id": "pbc5b8vOg1iO",
        "outputId": "069b63aa-bd5a-4b2e-b84b-38e9b341f5f8",
        "colab": {
          "base_uri": "https://localhost:8080/"
        }
      },
      "execution_count": null,
      "outputs": [
        {
          "output_type": "stream",
          "name": "stdout",
          "text": [
            "Mounted at /content/drive\n"
          ]
        }
      ]
    },
    {
      "cell_type": "code",
      "source": [
        "# Step 3: Define the path to the zip file\n",
        "zip_file_path = '/content/Hatespeech.zip'\n",
        "\n",
        "# Step 4: Define the extraction directory\n",
        "folder_path = '/content/Children'"
      ],
      "metadata": {
        "id": "-wjo4BZBhoVH"
      },
      "execution_count": null,
      "outputs": []
    },
    {
      "cell_type": "code",
      "source": [
        "# Step 5: Import the 'os' module\n",
        "import os # Import the os module to interact with the operating system\n",
        "\n",
        "# Step 6: Create the extraction directory if it doesn't exist\n",
        "os.makedirs(folder_path, exist_ok=True)\n",
        "\n",
        "# Import the zipfile module\n",
        "import zipfile\n",
        "\n",
        "# Step 7: Extract the zip file\n",
        "with zipfile.ZipFile(zip_file_path, 'r') as zip_ref:\n",
        "    zip_ref.extractall(folder_path)\n",
        "\n",
        "print(f'Files extracted to {folder_path}')"
      ],
      "metadata": {
        "id": "9nvrLLWdjFRM",
        "outputId": "db3cf41e-65a8-4359-859e-f401a0786df0",
        "colab": {
          "base_uri": "https://localhost:8080/"
        }
      },
      "execution_count": null,
      "outputs": [
        {
          "output_type": "stream",
          "name": "stdout",
          "text": [
            "Files extracted to /content/Children\n"
          ]
        }
      ]
    },
    {
      "cell_type": "markdown",
      "source": [
        "# # Getting data from file"
      ],
      "metadata": {
        "id": "gOpvjMwLgckD"
      }
    },
    {
      "cell_type": "code",
      "source": [
        "import nltk\n",
        "nltk.download('stopwords')\n",
        "import numpy as np\n",
        "import pandas as pd\n",
        "\n",
        "from sklearn.feature_extraction.text import TfidfVectorizer\n",
        "from sklearn.model_selection import train_test_split\n",
        "from sklearn.linear_model import LogisticRegression\n",
        "from sklearn.tree import DecisionTreeClassifier\n",
        "from sklearn.metrics import accuracy_score, classification_report, confusion_matrix, ConfusionMatrixDisplay\n",
        "from matplotlib import pyplot as plt\n",
        "from nltk.util import pr\n",
        "from nltk.tokenize import word_tokenize\n",
        "from nltk.corpus import stopwords\n",
        "stopword = set(stopwords.words('english'))\n",
        "\n",
        "import tensorflow as tf\n",
        "from tensorflow.keras.preprocessing import text, sequence\n",
        "from tensorflow.keras.models import Sequential\n",
        "from tensorflow.keras.layers import Dense, Dropout, Activation\n",
        "from tensorflow.keras.layers import Embedding\n",
        "from tensorflow.keras.layers import Conv1D, GlobalMaxPooling1D, MaxPooling1D\n",
        "\n",
        "import seaborn as sns\n",
        "\n",
        "\n",
        "import re\n",
        "import string\n",
        "\n",
        "import os\n",
        "#for dirname, _, filenames in os.walk('/kaggle/input'):\n",
        "    #for filename in filenames:\n",
        "        #print(os.path.join(dirname, filename))\n",
        "\n",
        "# You can write up to 20GB to the current directory (/kaggle/working/) that gets preserved as output when you create a version using \"Save & Run All\"\n",
        "# You can also write temporary files to /kaggle/temp/, but they won't be saved outside of the current session"
      ],
      "metadata": {
        "_uuid": "8f2839f25d086af736a60e9eeb907d3b93b6e0e5",
        "_cell_guid": "b1076dfc-b9ad-4769-8c92-a6c4dae69d19",
        "scrolled": true,
        "execution": {
          "iopub.status.busy": "2024-09-28T04:49:57.481533Z",
          "iopub.execute_input": "2024-09-28T04:49:57.481888Z",
          "iopub.status.idle": "2024-09-28T04:50:12.831147Z",
          "shell.execute_reply.started": "2024-09-28T04:49:57.48186Z",
          "shell.execute_reply": "2024-09-28T04:50:12.830088Z"
        },
        "trusted": true,
        "id": "PeIaHo6igckE",
        "outputId": "6e98edc2-9b68-4eeb-b10e-62d41bea0599",
        "colab": {
          "base_uri": "https://localhost:8080/"
        }
      },
      "outputs": [
        {
          "output_type": "stream",
          "name": "stderr",
          "text": [
            "[nltk_data] Downloading package stopwords to /root/nltk_data...\n",
            "[nltk_data]   Unzipping corpora/stopwords.zip.\n"
          ]
        }
      ],
      "execution_count": null
    },
    {
      "cell_type": "markdown",
      "source": [
        "# # Analizing amazing data"
      ],
      "metadata": {
        "id": "MLZ8q1eOgckG"
      }
    },
    {
      "cell_type": "code",
      "source": [
        "twitts_data = pd.read_csv(\"/content/Children/Hatespeech/hatespeech_csv/labeled_data.csv\")\n",
        "\n",
        "class_data = twitts_data['class'].value_counts()\n",
        "class_data"
      ],
      "metadata": {
        "execution": {
          "iopub.status.busy": "2024-09-28T04:51:22.606914Z",
          "iopub.execute_input": "2024-09-28T04:51:22.60729Z",
          "iopub.status.idle": "2024-09-28T04:51:22.712063Z",
          "shell.execute_reply.started": "2024-09-28T04:51:22.607258Z",
          "shell.execute_reply": "2024-09-28T04:51:22.711078Z"
        },
        "trusted": true,
        "id": "5dU-fSubgckG",
        "outputId": "015f01e5-ffd0-4027-bc40-3a2e9ee846a3",
        "colab": {
          "base_uri": "https://localhost:8080/",
          "height": 209
        }
      },
      "outputs": [
        {
          "output_type": "execute_result",
          "data": {
            "text/plain": [
              "class\n",
              "1    19190\n",
              "2     4163\n",
              "0     1430\n",
              "Name: count, dtype: int64"
            ],
            "text/html": [
              "<div>\n",
              "<style scoped>\n",
              "    .dataframe tbody tr th:only-of-type {\n",
              "        vertical-align: middle;\n",
              "    }\n",
              "\n",
              "    .dataframe tbody tr th {\n",
              "        vertical-align: top;\n",
              "    }\n",
              "\n",
              "    .dataframe thead th {\n",
              "        text-align: right;\n",
              "    }\n",
              "</style>\n",
              "<table border=\"1\" class=\"dataframe\">\n",
              "  <thead>\n",
              "    <tr style=\"text-align: right;\">\n",
              "      <th></th>\n",
              "      <th>count</th>\n",
              "    </tr>\n",
              "    <tr>\n",
              "      <th>class</th>\n",
              "      <th></th>\n",
              "    </tr>\n",
              "  </thead>\n",
              "  <tbody>\n",
              "    <tr>\n",
              "      <th>1</th>\n",
              "      <td>19190</td>\n",
              "    </tr>\n",
              "    <tr>\n",
              "      <th>2</th>\n",
              "      <td>4163</td>\n",
              "    </tr>\n",
              "    <tr>\n",
              "      <th>0</th>\n",
              "      <td>1430</td>\n",
              "    </tr>\n",
              "  </tbody>\n",
              "</table>\n",
              "</div><br><label><b>dtype:</b> int64</label>"
            ]
          },
          "metadata": {},
          "execution_count": 7
        }
      ],
      "execution_count": null
    },
    {
      "cell_type": "markdown",
      "source": [
        "# Count"
      ],
      "metadata": {
        "id": "J-q9IbWXgckH"
      }
    },
    {
      "cell_type": "code",
      "source": [
        "plt.hist(twitts_data['count'], bins = 6)\n",
        "plt.title('Count histogram')\n",
        "plt.xticks([3,9], [3,9])\n",
        "plt.show()"
      ],
      "metadata": {
        "execution": {
          "iopub.status.busy": "2024-09-28T04:51:22.713855Z",
          "iopub.execute_input": "2024-09-28T04:51:22.714153Z",
          "iopub.status.idle": "2024-09-28T04:51:22.945688Z",
          "shell.execute_reply.started": "2024-09-28T04:51:22.714127Z",
          "shell.execute_reply": "2024-09-28T04:51:22.944842Z"
        },
        "trusted": true,
        "id": "0t9r8AqUgckI",
        "outputId": "39781aa2-c716-4cf1-f9fd-57abb5e81b4c",
        "colab": {
          "base_uri": "https://localhost:8080/",
          "height": 452
        }
      },
      "outputs": [
        {
          "output_type": "display_data",
          "data": {
            "text/plain": [
              "<Figure size 640x480 with 1 Axes>"
            ],
            "image/png": "[encoded data removed]"
          },
          "metadata": {}
        }
      ],
      "execution_count": null
    },
    {
      "cell_type": "markdown",
      "source": [
        "# Hate speech"
      ],
      "metadata": {
        "id": "GAFV160wgckI"
      }
    },
    {
      "cell_type": "code",
      "source": [
        "plt.hist(twitts_data['hate_speech'], bins = 8)\n",
        "plt.title('Hate speech histogram')\n",
        "plt.xticks([0,9], [0,9])\n",
        "plt.show()"
      ],
      "metadata": {
        "execution": {
          "iopub.status.busy": "2024-09-28T04:51:22.946874Z",
          "iopub.execute_input": "2024-09-28T04:51:22.947216Z",
          "iopub.status.idle": "2024-09-28T04:51:23.198314Z",
          "shell.execute_reply.started": "2024-09-28T04:51:22.947183Z",
          "shell.execute_reply": "2024-09-28T04:51:23.197231Z"
        },
        "trusted": true,
        "id": "RQfPY2PNgckJ",
        "outputId": "fb4344f3-123e-4c1b-f5d9-982d260a2bf3",
        "colab": {
          "base_uri": "https://localhost:8080/",
          "height": 452
        }
      },
      "outputs": [
        {
          "output_type": "display_data",
          "data": {
            "text/plain": [
              "<Figure size 640x480 with 1 Axes>"
            ],
            "image/png": "[encoded data removed]"
          },
          "metadata": {}
        }
      ],
      "execution_count": null
    },
    {
      "cell_type": "markdown",
      "source": [
        "# Offensive language"
      ],
      "metadata": {
        "id": "xKkwbIgTgckJ"
      }
    },
    {
      "cell_type": "code",
      "source": [
        "plt.hist(twitts_data['offensive_language'], bins = 10)\n",
        "plt.title('Offensive language histogram')\n",
        "plt.xticks([0,9], [0,9])\n",
        "plt.show()"
      ],
      "metadata": {
        "execution": {
          "iopub.status.busy": "2024-09-28T04:51:23.200453Z",
          "iopub.execute_input": "2024-09-28T04:51:23.200795Z",
          "iopub.status.idle": "2024-09-28T04:51:23.503521Z",
          "shell.execute_reply.started": "2024-09-28T04:51:23.200765Z",
          "shell.execute_reply": "2024-09-28T04:51:23.502485Z"
        },
        "trusted": true,
        "id": "p2KpAJg3gckK",
        "outputId": "d0d45822-a25d-4a66-bf55-f07089dc86a7",
        "colab": {
          "base_uri": "https://localhost:8080/",
          "height": 452
        }
      },
      "outputs": [
        {
          "output_type": "display_data",
          "data": {
            "text/plain": [
              "<Figure size 640x480 with 1 Axes>"
            ],
            "image/png": "[encoded data removed]"
          },
          "metadata": {}
        }
      ],
      "execution_count": null
    },
    {
      "cell_type": "markdown",
      "source": [
        "# Neither"
      ],
      "metadata": {
        "id": "p1EOpM_PgckK"
      }
    },
    {
      "cell_type": "code",
      "source": [
        "plt.hist(twitts_data['neither'], bins = 10)\n",
        "plt.title('Neither histogram')\n",
        "plt.xticks([0,9], [0,9])\n",
        "plt.show()"
      ],
      "metadata": {
        "execution": {
          "iopub.status.busy": "2024-09-28T04:51:23.510335Z",
          "iopub.execute_input": "2024-09-28T04:51:23.511237Z",
          "iopub.status.idle": "2024-09-28T04:51:23.771267Z",
          "shell.execute_reply.started": "2024-09-28T04:51:23.51119Z",
          "shell.execute_reply": "2024-09-28T04:51:23.770317Z"
        },
        "trusted": true,
        "id": "lS43EeFrgckL",
        "outputId": "7c7b5d0f-0b34-42b2-a426-60202b85a21d",
        "colab": {
          "base_uri": "https://localhost:8080/",
          "height": 452
        }
      },
      "outputs": [
        {
          "output_type": "display_data",
          "data": {
            "text/plain": [
              "<Figure size 640x480 with 1 Axes>"
            ],
            "image/png": "[encoded data removed]"
          },
          "metadata": {}
        }
      ],
      "execution_count": null
    },
    {
      "cell_type": "markdown",
      "source": [
        "# Class"
      ],
      "metadata": {
        "id": "ODBXj1yKgckL"
      }
    },
    {
      "cell_type": "code",
      "source": [
        "plt.hist(twitts_data['class'], bins = 3)\n",
        "plt.title('Class histogram')\n",
        "plt.xticks([0,2], [0,2])\n",
        "plt.show()"
      ],
      "metadata": {
        "execution": {
          "iopub.status.busy": "2024-09-28T04:51:48.85017Z",
          "iopub.execute_input": "2024-09-28T04:51:48.850943Z",
          "iopub.status.idle": "2024-09-28T04:51:49.076591Z",
          "shell.execute_reply.started": "2024-09-28T04:51:48.850909Z",
          "shell.execute_reply": "2024-09-28T04:51:49.075657Z"
        },
        "trusted": true,
        "id": "a7QuyejRgckL",
        "outputId": "64fa19ce-03f2-4d95-bf54-00ecab37ca7d",
        "colab": {
          "base_uri": "https://localhost:8080/",
          "height": 452
        }
      },
      "outputs": [
        {
          "output_type": "display_data",
          "data": {
            "text/plain": [
              "<Figure size 640x480 with 1 Axes>"
            ],
            "image/png": "[encoded data removed]"
          },
          "metadata": {}
        }
      ],
      "execution_count": null
    },
    {
      "cell_type": "markdown",
      "source": [
        "0 - hate speech\n",
        "1 - offensive language\n",
        "2 - netiher"
      ],
      "metadata": {
        "id": "djwRQGeogckM"
      }
    },
    {
      "cell_type": "markdown",
      "source": [
        "# # Code preperation"
      ],
      "metadata": {
        "id": "5qhInvECgckM"
      }
    },
    {
      "cell_type": "code",
      "source": [
        "nltk.download('punkt_tab')\n",
        "def clean(text):\n",
        "    text = str(text).lower()\n",
        "    text = re.sub('\\[.*?\\]', '', text)\n",
        "    text = re.sub('https?://\\S+|www\\.\\S+', '', text)\n",
        "    text = re.sub('<.*?>+', '', text)\n",
        "    text = re.sub(r\"\\@w+|\\#\",'',text)\n",
        "    text = re.sub(r\"[^\\w\\s]\",'',text)\n",
        "    text = re.sub('[%s]' % re.escape(string.punctuation), '', text)\n",
        "    text = re.sub('\\n', '', text)\n",
        "    text = re.sub('\\w*\\d\\w*', '', text)\n",
        "    tweet_tokens = word_tokenize(text)\n",
        "    filtered_tweets=[w for w in tweet_tokens if not w in stopword] #removing stopwords\n",
        "    return \" \".join(filtered_tweets)"
      ],
      "metadata": {
        "execution": {
          "iopub.status.busy": "2024-09-28T04:51:50.112401Z",
          "iopub.execute_input": "2024-09-28T04:51:50.112783Z",
          "iopub.status.idle": "2024-09-28T04:51:50.120176Z",
          "shell.execute_reply.started": "2024-09-28T04:51:50.112754Z",
          "shell.execute_reply": "2024-09-28T04:51:50.119154Z"
        },
        "trusted": true,
        "id": "ZzzOwST6gckM",
        "outputId": "feed397a-70a0-407a-e9f9-5ce4414560b5",
        "colab": {
          "base_uri": "https://localhost:8080/"
        }
      },
      "outputs": [
        {
          "output_type": "stream",
          "name": "stderr",
          "text": [
            "[nltk_data] Downloading package punkt_tab to /root/nltk_data...\n",
            "[nltk_data]   Unzipping tokenizers/punkt_tab.zip.\n"
          ]
        }
      ],
      "execution_count": null
    },
    {
      "cell_type": "code",
      "source": [
        "\n",
        "twitts_data.tweet = twitts_data['tweet'].apply(clean)\n",
        "text_data = twitts_data.drop_duplicates(\"tweet\")\n",
        "\n",
        "vect=TfidfVectorizer(ngram_range=(1,3)).fit(text_data['tweet'])\n"
      ],
      "metadata": {
        "execution": {
          "iopub.status.busy": "2024-09-28T04:51:50.122093Z",
          "iopub.execute_input": "2024-09-28T04:51:50.12235Z",
          "iopub.status.idle": "2024-09-28T04:51:57.157351Z",
          "shell.execute_reply.started": "2024-09-28T04:51:50.122327Z",
          "shell.execute_reply": "2024-09-28T04:51:57.156555Z"
        },
        "trusted": true,
        "id": "YhfWxXfngckM"
      },
      "outputs": [],
      "execution_count": null
    },
    {
      "cell_type": "markdown",
      "source": [
        "# Divide data for training and test"
      ],
      "metadata": {
        "id": "04QH0dxdgckN"
      }
    },
    {
      "cell_type": "code",
      "source": [
        "\n",
        "X = text_data['tweet']\n",
        "Y = text_data['class']\n",
        "X = vect.transform(X) #Transformacja danych X\n",
        "\n",
        "X_train, X_test, Y_train, Y_test = train_test_split(X, Y, test_size=0.15,\n",
        "                                                    random_state=42)\n"
      ],
      "metadata": {
        "execution": {
          "iopub.status.busy": "2024-09-28T04:51:57.15865Z",
          "iopub.execute_input": "2024-09-28T04:51:57.159001Z",
          "iopub.status.idle": "2024-09-28T04:51:57.950784Z",
          "shell.execute_reply.started": "2024-09-28T04:51:57.15897Z",
          "shell.execute_reply": "2024-09-28T04:51:57.949971Z"
        },
        "trusted": true,
        "id": "PX1ZKusMgckN"
      },
      "outputs": [],
      "execution_count": null
    },
    {
      "cell_type": "code",
      "source": [
        "print(\"X_train count: \",X_train.size)\n",
        "print(\"X_test count: \",X_test.size)"
      ],
      "metadata": {
        "execution": {
          "iopub.status.busy": "2024-09-28T04:51:57.953107Z",
          "iopub.execute_input": "2024-09-28T04:51:57.953672Z",
          "iopub.status.idle": "2024-09-28T04:51:57.958967Z",
          "shell.execute_reply.started": "2024-09-28T04:51:57.953635Z",
          "shell.execute_reply": "2024-09-28T04:51:57.957991Z"
        },
        "trusted": true,
        "id": "ccFJ4Qs5gckN",
        "outputId": "140a1e74-380d-4e70-ffb2-daa24516b04e",
        "colab": {
          "base_uri": "https://localhost:8080/"
        }
      },
      "outputs": [
        {
          "output_type": "stream",
          "name": "stdout",
          "text": [
            "X_train count:  455109\n",
            "X_test count:  79919\n"
          ]
        }
      ],
      "execution_count": null
    },
    {
      "cell_type": "markdown",
      "source": [
        "# Logistic regression"
      ],
      "metadata": {
        "id": "86vWWI1DgckN"
      }
    },
    {
      "cell_type": "code",
      "source": [
        "logreg = LogisticRegression(max_iter = 300)\n",
        "logreg.fit(X_train, Y_train)\n",
        "\n",
        "logreg_predict = logreg.predict(X_test)"
      ],
      "metadata": {
        "execution": {
          "iopub.status.busy": "2024-09-28T04:51:57.96019Z",
          "iopub.execute_input": "2024-09-28T04:51:57.960515Z",
          "iopub.status.idle": "2024-09-28T04:52:21.098147Z",
          "shell.execute_reply.started": "2024-09-28T04:51:57.960479Z",
          "shell.execute_reply": "2024-09-28T04:52:21.096773Z"
        },
        "trusted": true,
        "id": "K6v1f-WvgckO"
      },
      "outputs": [],
      "execution_count": null
    },
    {
      "cell_type": "code",
      "source": [
        "print(classification_report(Y_test, logreg_predict))"
      ],
      "metadata": {
        "execution": {
          "iopub.status.busy": "2024-09-28T04:52:21.099874Z",
          "iopub.execute_input": "2024-09-28T04:52:21.100551Z",
          "iopub.status.idle": "2024-09-28T04:52:21.162615Z",
          "shell.execute_reply.started": "2024-09-28T04:52:21.100505Z",
          "shell.execute_reply": "2024-09-28T04:52:21.161429Z"
        },
        "trusted": true,
        "id": "Gs_OcrvlgckO",
        "outputId": "264423f0-f31e-407d-bdbd-641f41737eb0",
        "colab": {
          "base_uri": "https://localhost:8080/"
        }
      },
      "outputs": [
        {
          "output_type": "stream",
          "name": "stdout",
          "text": [
            "              precision    recall  f1-score   support\n",
            "\n",
            "           0       0.73      0.04      0.07       211\n",
            "           1       0.85      0.99      0.91      2843\n",
            "           2       0.88      0.51      0.65       622\n",
            "\n",
            "    accuracy                           0.85      3676\n",
            "   macro avg       0.82      0.51      0.54      3676\n",
            "weighted avg       0.85      0.85      0.82      3676\n",
            "\n"
          ]
        }
      ],
      "execution_count": null
    },
    {
      "cell_type": "markdown",
      "source": [
        "# Making tokens for training and test data"
      ],
      "metadata": {
        "id": "dNhrBe5SgckO"
      }
    },
    {
      "cell_type": "code",
      "source": [
        "X = text_data['tweet']\n",
        "Y = text_data['class']\n",
        "\n",
        "X_train, X_test, Y_train, Y_test = train_test_split(X, Y, test_size=0.15,\n",
        "                                                    random_state=42)\n",
        "\n",
        "x = X_train.values\n",
        "y = Y_train.values\n",
        "\n",
        "x_tokenizer = text.Tokenizer(20000)\n",
        "x_tokenizer.fit_on_texts(list(x))\n",
        "\n",
        "x_tokenized = x_tokenizer.texts_to_sequences(x)\n",
        "x_train_val= sequence.pad_sequences(x_tokenized, maxlen=512)\n",
        "\n",
        "x_test_tokenized = x_tokenizer.texts_to_sequences(X_test.values)\n",
        "x_test = sequence.pad_sequences(x_test_tokenized,maxlen=512)"
      ],
      "metadata": {
        "execution": {
          "iopub.status.busy": "2024-09-28T04:52:21.169055Z",
          "iopub.execute_input": "2024-09-28T04:52:21.1697Z",
          "iopub.status.idle": "2024-09-28T04:52:21.990952Z",
          "shell.execute_reply.started": "2024-09-28T04:52:21.169654Z",
          "shell.execute_reply": "2024-09-28T04:52:21.990103Z"
        },
        "trusted": true,
        "id": "8G3IRDSHgckO"
      },
      "outputs": [],
      "execution_count": null
    },
    {
      "cell_type": "markdown",
      "source": [
        "# Glove model loading"
      ],
      "metadata": {
        "id": "nB64aUaAgckO"
      }
    },
    {
      "cell_type": "code",
      "source": [
        "embedding_dim =100\n",
        "embeddings_index = dict()\n",
        "f = open('/content/Children/Hatespeech/hatespeech_txt/glove.6B.100d.txt')\n",
        "for line in f:\n",
        "    values = line.split()\n",
        "    word = values[0]\n",
        "    coefs = np.asarray(values[1:], dtype = 'float32')\n",
        "    embeddings_index[word]= coefs\n",
        "f.close()\n",
        "print(f'Glove model words count {len(embeddings_index)} word vectors')"
      ],
      "metadata": {
        "execution": {
          "iopub.status.busy": "2024-09-28T04:52:21.992099Z",
          "iopub.execute_input": "2024-09-28T04:52:21.992399Z",
          "iopub.status.idle": "2024-09-28T04:52:34.398345Z",
          "shell.execute_reply.started": "2024-09-28T04:52:21.992373Z",
          "shell.execute_reply": "2024-09-28T04:52:34.397419Z"
        },
        "trusted": true,
        "id": "jMlaJMRWgckP",
        "outputId": "5b98b60c-c7f2-4b33-8e7b-ac62e8b58b42",
        "colab": {
          "base_uri": "https://localhost:8080/"
        }
      },
      "outputs": [
        {
          "output_type": "stream",
          "name": "stdout",
          "text": [
            "Glove model words count 400000 word vectors\n"
          ]
        }
      ],
      "execution_count": null
    },
    {
      "cell_type": "code",
      "source": [
        "embedding_matrix= np.zeros((20000,embedding_dim))\n",
        "for word, index in x_tokenizer.word_index.items():\n",
        "    if index>20000-1:\n",
        "        break\n",
        "    else:\n",
        "        embedding_vector = embeddings_index.get(word)\n",
        "        if embedding_vector is not None:\n",
        "            embedding_matrix[index]= embedding_vector"
      ],
      "metadata": {
        "execution": {
          "iopub.status.busy": "2024-09-28T04:52:34.402474Z",
          "iopub.execute_input": "2024-09-28T04:52:34.402927Z",
          "iopub.status.idle": "2024-09-28T04:52:34.445941Z",
          "shell.execute_reply.started": "2024-09-28T04:52:34.402891Z",
          "shell.execute_reply": "2024-09-28T04:52:34.44505Z"
        },
        "trusted": true,
        "id": "WqObvEcNgckP"
      },
      "outputs": [],
      "execution_count": null
    },
    {
      "cell_type": "code",
      "source": [
        "y_train_plus_val =  tf.keras.utils.to_categorical(y, num_classes=3)\n",
        "y_test =  tf.keras.utils.to_categorical(Y_test.values, num_classes=3)\n",
        "y_train_plus_val"
      ],
      "metadata": {
        "execution": {
          "iopub.status.busy": "2024-09-28T04:52:34.446972Z",
          "iopub.execute_input": "2024-09-28T04:52:34.447237Z",
          "iopub.status.idle": "2024-09-28T04:52:34.455601Z",
          "shell.execute_reply.started": "2024-09-28T04:52:34.447213Z",
          "shell.execute_reply": "2024-09-28T04:52:34.454716Z"
        },
        "trusted": true,
        "id": "7rUxxo9dgckP",
        "outputId": "deaf0962-7e0a-4645-e0c8-b1afa40ea454",
        "colab": {
          "base_uri": "https://localhost:8080/"
        }
      },
      "outputs": [
        {
          "output_type": "execute_result",
          "data": {
            "text/plain": [
              "array([[0., 1., 0.],\n",
              "       [0., 1., 0.],\n",
              "       [0., 1., 0.],\n",
              "       ...,\n",
              "       [0., 1., 0.],\n",
              "       [0., 0., 1.],\n",
              "       [0., 1., 0.]])"
            ]
          },
          "metadata": {},
          "execution_count": 22
        }
      ],
      "execution_count": null
    },
    {
      "cell_type": "code",
      "source": [
        "model = Sequential()\n",
        "model.add(Embedding(20000,\n",
        "                    embedding_dim,\n",
        "                    embeddings_initializer=tf.keras.initializers.Constant(embedding_matrix),\n",
        "                    trainable=False))\n",
        "\n",
        "model.add(Dropout(0.2))\n",
        "\n",
        "model.add(Conv1D(64,2,padding='valid',activation='relu'))\n",
        "model.add(MaxPooling1D())\n",
        "model.add(Conv1D(64,2,padding='valid',activation='relu'))\n",
        "model.add(MaxPooling1D())\n",
        "\n",
        "model.add(Conv1D(32,2,padding='valid',activation='relu'))\n",
        "model.add(MaxPooling1D())\n",
        "model.add(Conv1D(32,2,padding='valid',activation='relu'))\n",
        "model.add(GlobalMaxPooling1D())\n",
        "\n",
        "model.add(Dense(16, activation='relu'))\n",
        "model.add(Dense(16, activation='relu'))\n",
        "model.add(Dropout(0.2))\n",
        "\n",
        "model.add(Dense(3, activation='softmax'))\n",
        "model.summary()"
      ],
      "metadata": {
        "execution": {
          "iopub.status.busy": "2024-09-28T04:52:34.45666Z",
          "iopub.execute_input": "2024-09-28T04:52:34.456916Z",
          "iopub.status.idle": "2024-09-28T04:52:35.297323Z",
          "shell.execute_reply.started": "2024-09-28T04:52:34.456894Z",
          "shell.execute_reply": "2024-09-28T04:52:35.296475Z"
        },
        "trusted": true,
        "id": "cbte6YB3gckP",
        "outputId": "fef8831b-7a09-416f-92f4-0e7bbc8c1967",
        "colab": {
          "base_uri": "https://localhost:8080/",
          "height": 610
        }
      },
      "outputs": [
        {
          "output_type": "display_data",
          "data": {
            "text/plain": [
              "\u001b[1mModel: \"sequential\"\u001b[0m\n"
            ],
            "text/html": [
              "<pre style=\"white-space:pre;overflow-x:auto;line-height:normal;font-family:Menlo,'DejaVu Sans Mono',consolas,'Courier New',monospace\"><span style=\"font-weight: bold\">Model: \"sequential\"</span>\n",
              "</pre>\n"
            ]
          },
          "metadata": {}
        },
        {
          "output_type": "display_data",
          "data": {
            "text/plain": [
              "┏━━━━━━━━━━━━━━━━━━━━━━━━━━━━━━━━━━━━━━┳━━━━━━━━━━━━━━━━━━━━━━━━━━━━━┳━━━━━━━━━━━━━━━━━┓\n",
              "┃\u001b[1m \u001b[0m\u001b[1mLayer (type)                        \u001b[0m\u001b[1m \u001b[0m┃\u001b[1m \u001b[0m\u001b[1mOutput Shape               \u001b[0m\u001b[1m \u001b[0m┃\u001b[1m \u001b[0m\u001b[1m        Param #\u001b[0m\u001b[1m \u001b[0m┃\n",
              "┡━━━━━━━━━━━━━━━━━━━━━━━━━━━━━━━━━━━━━━╇━━━━━━━━━━━━━━━━━━━━━━━━━━━━━╇━━━━━━━━━━━━━━━━━┩\n",
              "│ embedding (\u001b[38;5;33mEmbedding\u001b[0m)                │ ?                           │     \u001b[38;5;34m0\u001b[0m (unbuilt) │\n",
              "├──────────────────────────────────────┼─────────────────────────────┼─────────────────┤\n",
              "│ dropout (\u001b[38;5;33mDropout\u001b[0m)                    │ ?                           │     \u001b[38;5;34m0\u001b[0m (unbuilt) │\n",
              "├──────────────────────────────────────┼─────────────────────────────┼─────────────────┤\n",
              "│ conv1d (\u001b[38;5;33mConv1D\u001b[0m)                      │ ?                           │     \u001b[38;5;34m0\u001b[0m (unbuilt) │\n",
              "├──────────────────────────────────────┼─────────────────────────────┼─────────────────┤\n",
              "│ max_pooling1d (\u001b[38;5;33mMaxPooling1D\u001b[0m)         │ ?                           │     \u001b[38;5;34m0\u001b[0m (unbuilt) │\n",
              "├──────────────────────────────────────┼─────────────────────────────┼─────────────────┤\n",
              "│ conv1d_1 (\u001b[38;5;33mConv1D\u001b[0m)                    │ ?                           │     \u001b[38;5;34m0\u001b[0m (unbuilt) │\n",
              "├──────────────────────────────────────┼─────────────────────────────┼─────────────────┤\n",
              "│ max_pooling1d_1 (\u001b[38;5;33mMaxPooling1D\u001b[0m)       │ ?                           │     \u001b[38;5;34m0\u001b[0m (unbuilt) │\n",
              "├──────────────────────────────────────┼─────────────────────────────┼─────────────────┤\n",
              "│ conv1d_2 (\u001b[38;5;33mConv1D\u001b[0m)                    │ ?                           │     \u001b[38;5;34m0\u001b[0m (unbuilt) │\n",
              "├──────────────────────────────────────┼─────────────────────────────┼─────────────────┤\n",
              "│ max_pooling1d_2 (\u001b[38;5;33mMaxPooling1D\u001b[0m)       │ ?                           │     \u001b[38;5;34m0\u001b[0m (unbuilt) │\n",
              "├──────────────────────────────────────┼─────────────────────────────┼─────────────────┤\n",
              "│ conv1d_3 (\u001b[38;5;33mConv1D\u001b[0m)                    │ ?                           │     \u001b[38;5;34m0\u001b[0m (unbuilt) │\n",
              "├──────────────────────────────────────┼─────────────────────────────┼─────────────────┤\n",
              "│ global_max_pooling1d                 │ ?                           │     \u001b[38;5;34m0\u001b[0m (unbuilt) │\n",
              "│ (\u001b[38;5;33mGlobalMaxPooling1D\u001b[0m)                 │                             │                 │\n",
              "├──────────────────────────────────────┼─────────────────────────────┼─────────────────┤\n",
              "│ dense (\u001b[38;5;33mDense\u001b[0m)                        │ ?                           │     \u001b[38;5;34m0\u001b[0m (unbuilt) │\n",
              "├──────────────────────────────────────┼─────────────────────────────┼─────────────────┤\n",
              "│ dense_1 (\u001b[38;5;33mDense\u001b[0m)                      │ ?                           │     \u001b[38;5;34m0\u001b[0m (unbuilt) │\n",
              "├──────────────────────────────────────┼─────────────────────────────┼─────────────────┤\n",
              "│ dropout_1 (\u001b[38;5;33mDropout\u001b[0m)                  │ ?                           │     \u001b[38;5;34m0\u001b[0m (unbuilt) │\n",
              "├──────────────────────────────────────┼─────────────────────────────┼─────────────────┤\n",
              "│ dense_2 (\u001b[38;5;33mDense\u001b[0m)                      │ ?                           │     \u001b[38;5;34m0\u001b[0m (unbuilt) │\n",
              "└──────────────────────────────────────┴─────────────────────────────┴─────────────────┘\n"
            ],
            "text/html": [
              "<pre style=\"white-space:pre;overflow-x:auto;line-height:normal;font-family:Menlo,'DejaVu Sans Mono',consolas,'Courier New',monospace\">┏━━━━━━━━━━━━━━━━━━━━━━━━━━━━━━━━━━━━━━┳━━━━━━━━━━━━━━━━━━━━━━━━━━━━━┳━━━━━━━━━━━━━━━━━┓\n",
              "┃<span style=\"font-weight: bold\"> Layer (type)                         </span>┃<span style=\"font-weight: bold\"> Output Shape                </span>┃<span style=\"font-weight: bold\">         Param # </span>┃\n",
              "┡━━━━━━━━━━━━━━━━━━━━━━━━━━━━━━━━━━━━━━╇━━━━━━━━━━━━━━━━━━━━━━━━━━━━━╇━━━━━━━━━━━━━━━━━┩\n",
              "│ embedding (<span style=\"color: #0087ff; text-decoration-color: #0087ff\">Embedding</span>)                │ ?                           │     <span style=\"color: #00af00; text-decoration-color: #00af00\">0</span> (unbuilt) │\n",
              "├──────────────────────────────────────┼─────────────────────────────┼─────────────────┤\n",
              "│ dropout (<span style=\"color: #0087ff; text-decoration-color: #0087ff\">Dropout</span>)                    │ ?                           │     <span style=\"color: #00af00; text-decoration-color: #00af00\">0</span> (unbuilt) │\n",
              "├──────────────────────────────────────┼─────────────────────────────┼─────────────────┤\n",
              "│ conv1d (<span style=\"color: #0087ff; text-decoration-color: #0087ff\">Conv1D</span>)                      │ ?                           │     <span style=\"color: #00af00; text-decoration-color: #00af00\">0</span> (unbuilt) │\n",
              "├──────────────────────────────────────┼─────────────────────────────┼─────────────────┤\n",
              "│ max_pooling1d (<span style=\"color: #0087ff; text-decoration-color: #0087ff\">MaxPooling1D</span>)         │ ?                           │     <span style=\"color: #00af00; text-decoration-color: #00af00\">0</span> (unbuilt) │\n",
              "├──────────────────────────────────────┼─────────────────────────────┼─────────────────┤\n",
              "│ conv1d_1 (<span style=\"color: #0087ff; text-decoration-color: #0087ff\">Conv1D</span>)                    │ ?                           │     <span style=\"color: #00af00; text-decoration-color: #00af00\">0</span> (unbuilt) │\n",
              "├──────────────────────────────────────┼─────────────────────────────┼─────────────────┤\n",
              "│ max_pooling1d_1 (<span style=\"color: #0087ff; text-decoration-color: #0087ff\">MaxPooling1D</span>)       │ ?                           │     <span style=\"color: #00af00; text-decoration-color: #00af00\">0</span> (unbuilt) │\n",
              "├──────────────────────────────────────┼─────────────────────────────┼─────────────────┤\n",
              "│ conv1d_2 (<span style=\"color: #0087ff; text-decoration-color: #0087ff\">Conv1D</span>)                    │ ?                           │     <span style=\"color: #00af00; text-decoration-color: #00af00\">0</span> (unbuilt) │\n",
              "├──────────────────────────────────────┼─────────────────────────────┼─────────────────┤\n",
              "│ max_pooling1d_2 (<span style=\"color: #0087ff; text-decoration-color: #0087ff\">MaxPooling1D</span>)       │ ?                           │     <span style=\"color: #00af00; text-decoration-color: #00af00\">0</span> (unbuilt) │\n",
              "├──────────────────────────────────────┼─────────────────────────────┼─────────────────┤\n",
              "│ conv1d_3 (<span style=\"color: #0087ff; text-decoration-color: #0087ff\">Conv1D</span>)                    │ ?                           │     <span style=\"color: #00af00; text-decoration-color: #00af00\">0</span> (unbuilt) │\n",
              "├──────────────────────────────────────┼─────────────────────────────┼─────────────────┤\n",
              "│ global_max_pooling1d                 │ ?                           │     <span style=\"color: #00af00; text-decoration-color: #00af00\">0</span> (unbuilt) │\n",
              "│ (<span style=\"color: #0087ff; text-decoration-color: #0087ff\">GlobalMaxPooling1D</span>)                 │                             │                 │\n",
              "├──────────────────────────────────────┼─────────────────────────────┼─────────────────┤\n",
              "│ dense (<span style=\"color: #0087ff; text-decoration-color: #0087ff\">Dense</span>)                        │ ?                           │     <span style=\"color: #00af00; text-decoration-color: #00af00\">0</span> (unbuilt) │\n",
              "├──────────────────────────────────────┼─────────────────────────────┼─────────────────┤\n",
              "│ dense_1 (<span style=\"color: #0087ff; text-decoration-color: #0087ff\">Dense</span>)                      │ ?                           │     <span style=\"color: #00af00; text-decoration-color: #00af00\">0</span> (unbuilt) │\n",
              "├──────────────────────────────────────┼─────────────────────────────┼─────────────────┤\n",
              "│ dropout_1 (<span style=\"color: #0087ff; text-decoration-color: #0087ff\">Dropout</span>)                  │ ?                           │     <span style=\"color: #00af00; text-decoration-color: #00af00\">0</span> (unbuilt) │\n",
              "├──────────────────────────────────────┼─────────────────────────────┼─────────────────┤\n",
              "│ dense_2 (<span style=\"color: #0087ff; text-decoration-color: #0087ff\">Dense</span>)                      │ ?                           │     <span style=\"color: #00af00; text-decoration-color: #00af00\">0</span> (unbuilt) │\n",
              "└──────────────────────────────────────┴─────────────────────────────┴─────────────────┘\n",
              "</pre>\n"
            ]
          },
          "metadata": {}
        },
        {
          "output_type": "display_data",
          "data": {
            "text/plain": [
              "\u001b[1m Total params: \u001b[0m\u001b[38;5;34m0\u001b[0m (0.00 B)\n"
            ],
            "text/html": [
              "<pre style=\"white-space:pre;overflow-x:auto;line-height:normal;font-family:Menlo,'DejaVu Sans Mono',consolas,'Courier New',monospace\"><span style=\"font-weight: bold\"> Total params: </span><span style=\"color: #00af00; text-decoration-color: #00af00\">0</span> (0.00 B)\n",
              "</pre>\n"
            ]
          },
          "metadata": {}
        },
        {
          "output_type": "display_data",
          "data": {
            "text/plain": [
              "\u001b[1m Trainable params: \u001b[0m\u001b[38;5;34m0\u001b[0m (0.00 B)\n"
            ],
            "text/html": [
              "<pre style=\"white-space:pre;overflow-x:auto;line-height:normal;font-family:Menlo,'DejaVu Sans Mono',consolas,'Courier New',monospace\"><span style=\"font-weight: bold\"> Trainable params: </span><span style=\"color: #00af00; text-decoration-color: #00af00\">0</span> (0.00 B)\n",
              "</pre>\n"
            ]
          },
          "metadata": {}
        },
        {
          "output_type": "display_data",
          "data": {
            "text/plain": [
              "\u001b[1m Non-trainable params: \u001b[0m\u001b[38;5;34m0\u001b[0m (0.00 B)\n"
            ],
            "text/html": [
              "<pre style=\"white-space:pre;overflow-x:auto;line-height:normal;font-family:Menlo,'DejaVu Sans Mono',consolas,'Courier New',monospace\"><span style=\"font-weight: bold\"> Non-trainable params: </span><span style=\"color: #00af00; text-decoration-color: #00af00\">0</span> (0.00 B)\n",
              "</pre>\n"
            ]
          },
          "metadata": {}
        }
      ],
      "execution_count": null
    },
    {
      "cell_type": "code",
      "source": [
        "import tensorflow.keras.backend as K\n",
        "\n",
        "# Funkcie które pozwalały na trenowanie modelu od kątem optymalizacji wartości f1-score w przypadku modelu CNN\n",
        "def recall_m(y_true, y_pred):\n",
        "    true_positives = K.sum(K.round(K.clip(y_true * y_pred, 0, 1)))\n",
        "    possible_positives = K.sum(K.round(K.clip(y_true, 0, 1)))\n",
        "    recall = true_positives / (possible_positives +\n",
        "    K.epsilon())\n",
        "    return recall\n",
        "\n",
        "def precision_m(y_true, y_pred):\n",
        "    true_positives = K.sum(K.round(K.clip(y_true * y_pred, 0, 1)))\n",
        "    predicted_positives = K.sum(K.round(K.clip(y_pred, 0, 1)))\n",
        "    precision = true_positives / (predicted_positives + K.epsilon())\n",
        "    return precision\n",
        "\n",
        "def f1_m(y_true, y_pred):\n",
        "    precision = precision_m(y_true, y_pred)\n",
        "    recall = recall_m(y_true, y_pred)\n",
        "    return 2*((precision*recall)/(precision+recall+K.epsilon()))\n",
        "\n",
        "#dodajemy nowe metryki, które polepszają f1-score\n",
        "model.compile(loss='categorical_crossentropy',optimizer='adam',metrics=['accuracy', f1_m, precision_m, recall_m])"
      ],
      "metadata": {
        "execution": {
          "iopub.status.busy": "2024-09-28T04:52:35.298469Z",
          "iopub.execute_input": "2024-09-28T04:52:35.298744Z",
          "iopub.status.idle": "2024-09-28T04:52:35.32553Z",
          "shell.execute_reply.started": "2024-09-28T04:52:35.29872Z",
          "shell.execute_reply": "2024-09-28T04:52:35.324787Z"
        },
        "trusted": true,
        "id": "YF2fIAl2gckQ"
      },
      "outputs": [],
      "execution_count": null
    },
    {
      "cell_type": "code",
      "source": [
        "from tensorflow.keras.callbacks import EarlyStopping\n",
        "\n",
        "early_stopping = EarlyStopping(\n",
        "    monitor='val_accuracy',\n",
        "    patience=2,\n",
        "    restore_best_weights=True\n",
        ")\n",
        "\n",
        "history = model.fit(x_train_val, y_train_plus_val, batch_size= 64, validation_split=0.2, epochs=10)\n",
        "\n"
      ],
      "metadata": {
        "execution": {
          "iopub.status.busy": "2024-09-28T04:52:35.326512Z",
          "iopub.execute_input": "2024-09-28T04:52:35.326783Z",
          "iopub.status.idle": "2024-09-28T04:53:16.673786Z",
          "shell.execute_reply.started": "2024-09-28T04:52:35.32676Z",
          "shell.execute_reply": "2024-09-28T04:53:16.672862Z"
        },
        "trusted": true,
        "id": "_qtMWCDfgckQ",
        "outputId": "3d87a06e-44d9-4fa0-f3f3-9f18d60d161f",
        "colab": {
          "base_uri": "https://localhost:8080/"
        }
      },
      "outputs": [
        {
          "output_type": "stream",
          "name": "stdout",
          "text": [
            "Epoch 1/10\n",
            "\u001b[1m261/261\u001b[0m \u001b[32m━━━━━━━━━━━━━━━━━━━━\u001b[0m\u001b[37m\u001b[0m \u001b[1m16s\u001b[0m 26ms/step - accuracy: 0.7487 - f1_m: 0.6535 - loss: 0.7297 - precision_m: 0.7827 - recall_m: 0.5923 - val_accuracy: 0.8286 - val_f1_m: 0.8109 - val_loss: 0.4854 - val_precision_m: 0.8587 - val_recall_m: 0.7691\n",
            "Epoch 2/10\n",
            "\u001b[1m261/261\u001b[0m \u001b[32m━━━━━━━━━━━━━━━━━━━━\u001b[0m\u001b[37m\u001b[0m \u001b[1m2s\u001b[0m 9ms/step - accuracy: 0.8253 - f1_m: 0.8154 - loss: 0.4914 - precision_m: 0.8481 - recall_m: 0.7858 - val_accuracy: 0.8272 - val_f1_m: 0.8246 - val_loss: 0.4745 - val_precision_m: 0.8422 - val_recall_m: 0.8082\n",
            "Epoch 3/10\n",
            "\u001b[1m261/261\u001b[0m \u001b[32m━━━━━━━━━━━━━━━━━━━━\u001b[0m\u001b[37m\u001b[0m \u001b[1m2s\u001b[0m 7ms/step - accuracy: 0.8355 - f1_m: 0.8325 - loss: 0.4508 - precision_m: 0.8551 - recall_m: 0.8115 - val_accuracy: 0.8469 - val_f1_m: 0.8434 - val_loss: 0.4301 - val_precision_m: 0.8588 - val_recall_m: 0.8290\n",
            "Epoch 4/10\n",
            "\u001b[1m261/261\u001b[0m \u001b[32m━━━━━━━━━━━━━━━━━━━━\u001b[0m\u001b[37m\u001b[0m \u001b[1m2s\u001b[0m 7ms/step - accuracy: 0.8441 - f1_m: 0.8408 - loss: 0.4219 - precision_m: 0.8580 - recall_m: 0.8246 - val_accuracy: 0.8469 - val_f1_m: 0.8454 - val_loss: 0.4273 - val_precision_m: 0.8572 - val_recall_m: 0.8341\n",
            "Epoch 5/10\n",
            "\u001b[1m261/261\u001b[0m \u001b[32m━━━━━━━━━━━━━━━━━━━━\u001b[0m\u001b[37m\u001b[0m \u001b[1m3s\u001b[0m 7ms/step - accuracy: 0.8555 - f1_m: 0.8522 - loss: 0.4042 - precision_m: 0.8675 - recall_m: 0.8376 - val_accuracy: 0.8485 - val_f1_m: 0.8468 - val_loss: 0.4148 - val_precision_m: 0.8590 - val_recall_m: 0.8351\n",
            "Epoch 6/10\n",
            "\u001b[1m261/261\u001b[0m \u001b[32m━━━━━━━━━━━━━━━━━━━━\u001b[0m\u001b[37m\u001b[0m \u001b[1m3s\u001b[0m 7ms/step - accuracy: 0.8600 - f1_m: 0.8571 - loss: 0.3862 - precision_m: 0.8698 - recall_m: 0.8450 - val_accuracy: 0.8521 - val_f1_m: 0.8467 - val_loss: 0.4111 - val_precision_m: 0.8556 - val_recall_m: 0.8382\n",
            "Epoch 7/10\n",
            "\u001b[1m261/261\u001b[0m \u001b[32m━━━━━━━━━━━━━━━━━━━━\u001b[0m\u001b[37m\u001b[0m \u001b[1m3s\u001b[0m 8ms/step - accuracy: 0.8706 - f1_m: 0.8698 - loss: 0.3581 - precision_m: 0.8799 - recall_m: 0.8601 - val_accuracy: 0.8531 - val_f1_m: 0.8529 - val_loss: 0.4085 - val_precision_m: 0.8621 - val_recall_m: 0.8441\n",
            "Epoch 8/10\n",
            "\u001b[1m261/261\u001b[0m \u001b[32m━━━━━━━━━━━━━━━━━━━━\u001b[0m\u001b[37m\u001b[0m \u001b[1m2s\u001b[0m 9ms/step - accuracy: 0.8696 - f1_m: 0.8678 - loss: 0.3616 - precision_m: 0.8776 - recall_m: 0.8583 - val_accuracy: 0.8524 - val_f1_m: 0.8483 - val_loss: 0.4116 - val_precision_m: 0.8568 - val_recall_m: 0.8401\n",
            "Epoch 9/10\n",
            "\u001b[1m261/261\u001b[0m \u001b[32m━━━━━━━━━━━━━━━━━━━━\u001b[0m\u001b[37m\u001b[0m \u001b[1m2s\u001b[0m 8ms/step - accuracy: 0.8729 - f1_m: 0.8717 - loss: 0.3511 - precision_m: 0.8816 - recall_m: 0.8621 - val_accuracy: 0.8380 - val_f1_m: 0.8365 - val_loss: 0.4445 - val_precision_m: 0.8470 - val_recall_m: 0.8264\n",
            "Epoch 10/10\n",
            "\u001b[1m261/261\u001b[0m \u001b[32m━━━━━━━━━━━━━━━━━━━━\u001b[0m\u001b[37m\u001b[0m \u001b[1m2s\u001b[0m 7ms/step - accuracy: 0.8777 - f1_m: 0.8768 - loss: 0.3313 - precision_m: 0.8878 - recall_m: 0.8663 - val_accuracy: 0.8519 - val_f1_m: 0.8468 - val_loss: 0.4102 - val_precision_m: 0.8602 - val_recall_m: 0.8342\n"
          ]
        }
      ],
      "execution_count": null
    },
    {
      "cell_type": "code",
      "source": [
        "plt.plot(history.history['accuracy'], label='train')\n",
        "plt.plot(history.history['val_accuracy'], label='validation')\n",
        "plt.xlabel('Epochs')\n",
        "plt.ylabel('Accuracy')\n",
        "plt.title('Training accuracy vs. Epochs')\n",
        "plt.legend()\n",
        "plt.show()"
      ],
      "metadata": {
        "execution": {
          "iopub.status.busy": "2024-09-28T04:53:16.675248Z",
          "iopub.execute_input": "2024-09-28T04:53:16.676697Z",
          "iopub.status.idle": "2024-09-28T04:53:16.968871Z",
          "shell.execute_reply.started": "2024-09-28T04:53:16.676668Z",
          "shell.execute_reply": "2024-09-28T04:53:16.967969Z"
        },
        "trusted": true,
        "id": "7-qcRDJSgckR",
        "outputId": "cca3e412-fc80-47be-b5bc-0e49265d5242",
        "colab": {
          "base_uri": "https://localhost:8080/",
          "height": 472
        }
      },
      "outputs": [
        {
          "output_type": "display_data",
          "data": {
            "text/plain": [
              "<Figure size 640x480 with 1 Axes>"
            ],
            "image/png": "[encoded data removed]"
          },
          "metadata": {}
        }
      ],
      "execution_count": null
    },
    {
      "cell_type": "code",
      "source": [
        "model.evaluate(x_test,y_test, batch_size = 64)"
      ],
      "metadata": {
        "execution": {
          "iopub.status.busy": "2024-09-28T04:53:16.970259Z",
          "iopub.execute_input": "2024-09-28T04:53:16.970707Z",
          "iopub.status.idle": "2024-09-28T04:53:18.4082Z",
          "shell.execute_reply.started": "2024-09-28T04:53:16.970672Z",
          "shell.execute_reply": "2024-09-28T04:53:18.407451Z"
        },
        "trusted": true,
        "id": "jg-8ZdaWgckR",
        "outputId": "f9417d82-5532-4e16-bdc9-8e9d280847e4",
        "colab": {
          "base_uri": "https://localhost:8080/"
        }
      },
      "outputs": [
        {
          "output_type": "stream",
          "name": "stdout",
          "text": [
            "\u001b[1m58/58\u001b[0m \u001b[32m━━━━━━━━━━━━━━━━━━━━\u001b[0m\u001b[37m\u001b[0m \u001b[1m1s\u001b[0m 16ms/step - accuracy: 0.8510 - f1_m: 0.8504 - loss: 0.4258 - precision_m: 0.8655 - recall_m: 0.8359\n"
          ]
        },
        {
          "output_type": "execute_result",
          "data": {
            "text/plain": [
              "[0.41668495535850525,\n",
              " 0.8506528735160828,\n",
              " 0.8500370383262634,\n",
              " 0.8638077974319458,\n",
              " 0.8368611335754395]"
            ]
          },
          "metadata": {},
          "execution_count": 27
        }
      ],
      "execution_count": null
    },
    {
      "cell_type": "code",
      "source": [
        "y_pred = model.predict(x_test)\n",
        "y_pred_raport = y_pred.argmax(axis = 1)\n",
        "y_pred_raport"
      ],
      "metadata": {
        "execution": {
          "iopub.status.busy": "2024-09-28T04:53:18.409247Z",
          "iopub.execute_input": "2024-09-28T04:53:18.40957Z",
          "iopub.status.idle": "2024-09-28T04:53:20.273191Z",
          "shell.execute_reply.started": "2024-09-28T04:53:18.409544Z",
          "shell.execute_reply": "2024-09-28T04:53:20.272403Z"
        },
        "trusted": true,
        "id": "oZcViL8ZgckR",
        "outputId": "4c044288-a027-48da-e4a7-839bea52b9f6",
        "colab": {
          "base_uri": "https://localhost:8080/"
        }
      },
      "outputs": [
        {
          "output_type": "stream",
          "name": "stdout",
          "text": [
            "\u001b[1m115/115\u001b[0m \u001b[32m━━━━━━━━━━━━━━━━━━━━\u001b[0m\u001b[37m\u001b[0m \u001b[1m1s\u001b[0m 4ms/step\n"
          ]
        },
        {
          "output_type": "execute_result",
          "data": {
            "text/plain": [
              "array([1, 1, 1, ..., 1, 1, 1])"
            ]
          },
          "metadata": {},
          "execution_count": 28
        }
      ],
      "execution_count": null
    },
    {
      "cell_type": "code",
      "source": [
        "y_test_raport = y_test.argmax(axis = 1)\n",
        "y_test_raport"
      ],
      "metadata": {
        "execution": {
          "iopub.status.busy": "2024-09-28T04:53:20.274313Z",
          "iopub.execute_input": "2024-09-28T04:53:20.27469Z",
          "iopub.status.idle": "2024-09-28T04:53:20.281501Z",
          "shell.execute_reply.started": "2024-09-28T04:53:20.274656Z",
          "shell.execute_reply": "2024-09-28T04:53:20.280489Z"
        },
        "trusted": true,
        "id": "S8EE0TwUgckR",
        "outputId": "e5ea40f4-4668-48fc-b284-65f3a69ef653",
        "colab": {
          "base_uri": "https://localhost:8080/"
        }
      },
      "outputs": [
        {
          "output_type": "execute_result",
          "data": {
            "text/plain": [
              "array([1, 1, 2, ..., 1, 1, 1])"
            ]
          },
          "metadata": {},
          "execution_count": 29
        }
      ],
      "execution_count": null
    },
    {
      "cell_type": "code",
      "source": [
        "print(classification_report(y_test_raport, y_pred_raport))"
      ],
      "metadata": {
        "execution": {
          "iopub.status.busy": "2024-09-28T04:53:20.282727Z",
          "iopub.execute_input": "2024-09-28T04:53:20.283Z",
          "iopub.status.idle": "2024-09-28T04:53:20.303114Z",
          "shell.execute_reply.started": "2024-09-28T04:53:20.282976Z",
          "shell.execute_reply": "2024-09-28T04:53:20.302327Z"
        },
        "trusted": true,
        "id": "5XhxRrJggckR",
        "outputId": "2157b79f-8b2d-4c2f-fdc9-b84de0d4e484",
        "colab": {
          "base_uri": "https://localhost:8080/"
        }
      },
      "outputs": [
        {
          "output_type": "stream",
          "name": "stdout",
          "text": [
            "              precision    recall  f1-score   support\n",
            "\n",
            "           0       0.46      0.03      0.05       211\n",
            "           1       0.87      0.96      0.91      2843\n",
            "           2       0.76      0.61      0.68       622\n",
            "\n",
            "    accuracy                           0.85      3676\n",
            "   macro avg       0.70      0.53      0.55      3676\n",
            "weighted avg       0.83      0.85      0.82      3676\n",
            "\n"
          ]
        }
      ],
      "execution_count": null
    },
    {
      "cell_type": "code",
      "source": [
        "accuracy = accuracy_score(y_test_raport, y_pred_raport)\n",
        "print(f\"Accuracy: {accuracy:.2f}\")"
      ],
      "metadata": {
        "id": "SlC_dgWwpkPb",
        "outputId": "16c2610a-a83a-4c9a-90c1-25548df90367",
        "colab": {
          "base_uri": "https://localhost:8080/"
        }
      },
      "execution_count": null,
      "outputs": [
        {
          "output_type": "stream",
          "name": "stdout",
          "text": [
            "Accuracy: 0.85\n"
          ]
        }
      ]
    },
    {
      "cell_type": "markdown",
      "source": [
        "# **Training little transformer model using BERT pretrained encoder**"
      ],
      "metadata": {
        "id": "2AFlukIvgcka"
      }
    },
    {
      "cell_type": "code",
      "source": [
        "import numpy as np # linear algebra\n",
        "import pandas as pd # data processing, CSV file I/O (e.g. pd.read_csv)\n",
        "\n",
        "from sklearn.feature_extraction.text import TfidfVectorizer\n",
        "from sklearn.model_selection import train_test_split\n",
        "from sklearn.linear_model import LogisticRegression\n",
        "from sklearn.tree import DecisionTreeClassifier\n",
        "from sklearn.metrics import accuracy_score, classification_report, confusion_matrix, ConfusionMatrixDisplay\n",
        "from sklearn.preprocessing import LabelEncoder\n",
        "from matplotlib import pyplot as plt\n",
        "\n",
        "import nltk\n",
        "from nltk.util import pr\n",
        "from nltk.tokenize import word_tokenize\n",
        "from nltk.corpus import stopwords\n",
        "stopword = set(stopwords.words('english'))\n",
        "\n",
        "import tensorflow as tf\n",
        "from tensorflow.keras.layers import Input, Dense, Dropout, GlobalAveragePooling2D\n",
        "from tensorflow.keras.models import Sequential, Model\n",
        "\n",
        "from transformers import BertTokenizer, TFBertModel\n",
        "\n",
        "from keras.layers import LSTM\n",
        "from keras.layers import Conv1D, MaxPooling1D\n",
        "from keras.layers import Dropout\n",
        "\n",
        "import seaborn as sns\n",
        "import re\n",
        "import string\n",
        "\n",
        "#import os\n",
        "#for dirname, _, filenames in os.walk('/kaggle/input'):\n",
        "    #for filename in filenames:\n",
        "        #print(os.path.join(dirname, filename))"
      ],
      "metadata": {
        "execution": {
          "iopub.status.busy": "2024-09-28T04:53:20.304069Z",
          "iopub.execute_input": "2024-09-28T04:53:20.304296Z",
          "iopub.status.idle": "2024-09-28T04:53:25.843333Z",
          "shell.execute_reply.started": "2024-09-28T04:53:20.304276Z",
          "shell.execute_reply": "2024-09-28T04:53:25.842323Z"
        },
        "trusted": true,
        "id": "PAcfs4gbgcka"
      },
      "outputs": [],
      "execution_count": null
    },
    {
      "cell_type": "code",
      "source": [
        "def clean(text):\n",
        "    text = str(text).lower()\n",
        "    text = re.sub('\\[.*?\\]', '', text)\n",
        "    text = re.sub('https?://\\S+|www\\.\\S+', '', text)\n",
        "    text = re.sub('<.*?>+', '', text)\n",
        "    text = re.sub(r\"\\@w+|\\#\",'',text)\n",
        "    text = re.sub(r\"[^\\w\\s]\",'',text)\n",
        "    text = re.sub('[%s]' % re.escape(string.punctuation), '', text)\n",
        "    text = re.sub('\\n', '', text)\n",
        "    text = re.sub('\\w*\\d\\w*', '', text)\n",
        "    tweet_tokens = word_tokenize(text)\n",
        "    filtered_tweets = [w for w in tweet_tokens if not w in stopword] #removing stopwords\n",
        "    return \" \".join(filtered_tweets)\n",
        "\n",
        "# Pobranie i wyczyszczenie danych\n",
        "tweets_data = pd.read_csv(\"/content/Children/Hatespeech/hatespeech_csv/labeled_data.csv\")\n",
        "tweets_data.tweet = tweets_data['tweet'].apply(clean)\n",
        "tweets_data = tweets_data.drop_duplicates(\"tweet\")\n",
        "\n",
        "tweets = tweets_data['tweet']\n",
        "classes = tweets_data['class']\n",
        "\n",
        "class_encoder = LabelEncoder()\n",
        "classes = class_encoder.fit_transform(classes)\n",
        "\n",
        "tweets_train, tweets_test, classes_train, classes_test = train_test_split(tweets, classes, test_size=0.10, random_state=42)\n",
        "\n",
        "tweets_train = tweets_train.values\n",
        "tweets_test = tweets_test.values\n",
        "\n",
        "classes_train = tf.cast(classes_train, tf.float32)\n",
        "classes_test = tf.cast(classes_test, tf.float32)\n",
        "\n",
        "tokenizer = BertTokenizer.from_pretrained('bert-base-uncased')\n",
        "bert_model = TFBertModel.from_pretrained(\"bert-base-uncased\")\n",
        "\n",
        "def encode_tweets(tweets):\n",
        "    batch_size = 1000\n",
        "    embeddings = []\n",
        "    for i in range(0, len(tweets), batch_size):\n",
        "        batch_texts = tweets[i:i+batch_size]\n",
        "        tokenized_tweets = tokenizer(\n",
        "            batch_texts.tolist(),\n",
        "            max_length = 128,\n",
        "            padding = True,\n",
        "            truncation = True,\n",
        "            return_tensors = 'tf'\n",
        "        )\n",
        "        inputs = {'input_ids': tokenized_tweets['input_ids'], 'attention_mask': tokenized_tweets['attention_mask']}\n",
        "        outputs = bert_model(**inputs)\n",
        "        batch_embeddings = outputs.last_hidden_state[:, 0, :]\n",
        "        embeddings.append(batch_embeddings)\n",
        "    return tf.concat(embeddings, axis = 0)\n",
        "\n",
        "embeddings_train = encode_tweets(tweets_train)\n",
        "embeddings_test = encode_tweets(tweets_test)"
      ],
      "metadata": {
        "execution": {
          "iopub.status.busy": "2024-09-28T04:53:25.844388Z",
          "iopub.execute_input": "2024-09-28T04:53:25.845223Z",
          "iopub.status.idle": "2024-09-28T04:54:37.559623Z",
          "shell.execute_reply.started": "2024-09-28T04:53:25.845193Z",
          "shell.execute_reply": "2024-09-28T04:54:37.558602Z"
        },
        "trusted": true,
        "id": "oSFvN8xMgcka",
        "outputId": "9636dcf4-3de4-4130-81eb-f2b43a7d76a2",
        "colab": {
          "base_uri": "https://localhost:8080/",
          "height": 388,
          "referenced_widgets": [
            "a4de288e11834e63ad634ce3e2809d3d",
            "bba2fd43f49744409bbee09434a85eaa",
            "5b259bbd954e482cbf772dd502eedf94",
            "18a9fcbeb1a34538a1d236e8d7190081",
            "d912a6e7569a475dbd3ac47c4148dc1d",
            "70ca84989fef41939bd8f089334bffb1",
            "e4cfcff9bbea4fecab724a05a50521ad",
            "cccac646f04a417ab683962e44aaf90e",
            "b94b397c0198440c91de11f0ee75e4e8",
            "5d61bd3a664a47aabb8c32def298816b",
            "ba8abecf41f446b3b1b2d6038e9183b0",
            "6850e4f132f54d35b911d114e1ac448b",
            "3f26e8b75640449d85e8c6123c4bcfce",
            "fdd50ef7bb0642669028b27ff99798f2",
            "79a18543bf8f4dbcbbffd13297ae61d3",
            "c7a91d333f2f434a95293b7af5ffb14c",
            "7ad8162b6da14fe69b3f3ee40c7f8ecd",
            "d2af9f1fe7ed4143bf0db3d2f476a0d8",
            "3a0cdf9b518b4603bb3036235f18d197",
            "be698435389942929b9eea7a391cb780",
            "2fee5fa058564b60b7519bd81ad3e608",
            "59e87db9fd2f4e6dbd15977e3d18f554",
            "0137dea68a4b445ca7c1b51ef79d6767",
            "41a323fda52949d78b6b20cc9c7918ee",
            "065945767c8c4d8fba9d8b301c5e58c9",
            "2c7625354aae4d7d87aad7712ce056e3",
            "7100f0f801494eac83dd4b1f3a0c6e3c",
            "6b89394ab26943bb9db9c1d49ed3597b",
            "1bbc648df1ba443db1bcf18e21f48f46",
            "af7813c85cb241a184e607ef1497a252",
            "91c6ebe29852448c8ad9c29c5ee4d7ba",
            "190a12e29c654fac889294283a0878ad",
            "891780e7dd734e9297ca98d0334e8267",
            "6cc4b1fc973547c2bbeef5e1fa8cb824",
            "83c602f4ada24588a49cfe69233179b9",
            "cb921b14ed014bac878d765085384911",
            "9c866a78a37e46a49154b346655c3c5b",
            "738ab9a0ab064a0891a9bb86e4d409c8",
            "95444e0f33b84959aba51e5a27848653",
            "35653fe69e8d423494afc15c2c964250",
            "76b54f11354e471fb8f5e5be0b8eea80",
            "a2be7223097443d39f7d0c20ab216d33",
            "69a8510fbe8646a79525032b59cbb3bf",
            "21a398dbacc142d08e0d2aef3175b166",
            "6eeae62b1e4842d7a1b8c78e99b275e5",
            "9f757de6698146bc8ef020384a95f32a",
            "f89cc5b78d894d72a9ecf7e26788f7f7",
            "39df409ed0bd471d9685c146fbd517e2",
            "e80ae71f66d54fa0b21232f610522d8f",
            "93665bce2ec9405fbb2b23b392e9fcc0",
            "a0ba5e31b0004e889683f6c748e74826",
            "2689a5241d474da0a84336387b1219f2",
            "1c8be647391c48ccbfc82b88d7e15e8f",
            "e264c3ee08d347879bb3d6ecc5e1407b",
            "290b59ff7d80431ca8c0c5defbf8d725"
          ]
        }
      },
      "outputs": [
        {
          "output_type": "stream",
          "name": "stderr",
          "text": [
            "/usr/local/lib/python3.10/dist-packages/huggingface_hub/utils/_auth.py:94: UserWarning: \n",
            "The secret `HF_TOKEN` does not exist in your Colab secrets.\n",
            "To authenticate with the Hugging Face Hub, create a token in your settings tab (https://huggingface.co/settings/tokens), set it as secret in your Google Colab and restart your session.\n",
            "You will be able to reuse this secret in all of your notebooks.\n",
            "Please note that authentication is recommended but still optional to access public models or datasets.\n",
            "  warnings.warn(\n"
          ]
        },
        {
          "output_type": "display_data",
          "data": {
            "text/plain": [
              "tokenizer_config.json:   0%|          | 0.00/48.0 [00:00<?, ?B/s]"
            ],
            "application/vnd.jupyter.widget-view+json": {
              "version_major": 2,
              "version_minor": 0,
              "model_id": "a4de288e11834e63ad634ce3e2809d3d"
            }
          },
          "metadata": {}
        },
        {
          "output_type": "display_data",
          "data": {
            "text/plain": [
              "vocab.txt:   0%|          | 0.00/232k [00:00<?, ?B/s]"
            ],
            "application/vnd.jupyter.widget-view+json": {
              "version_major": 2,
              "version_minor": 0,
              "model_id": "6850e4f132f54d35b911d114e1ac448b"
            }
          },
          "metadata": {}
        },
        {
          "output_type": "display_data",
          "data": {
            "text/plain": [
              "tokenizer.json:   0%|          | 0.00/466k [00:00<?, ?B/s]"
            ],
            "application/vnd.jupyter.widget-view+json": {
              "version_major": 2,
              "version_minor": 0,
              "model_id": "0137dea68a4b445ca7c1b51ef79d6767"
            }
          },
          "metadata": {}
        },
        {
          "output_type": "display_data",
          "data": {
            "text/plain": [
              "config.json:   0%|          | 0.00/570 [00:00<?, ?B/s]"
            ],
            "application/vnd.jupyter.widget-view+json": {
              "version_major": 2,
              "version_minor": 0,
              "model_id": "6cc4b1fc973547c2bbeef5e1fa8cb824"
            }
          },
          "metadata": {}
        },
        {
          "output_type": "display_data",
          "data": {
            "text/plain": [
              "model.safetensors:   0%|          | 0.00/440M [00:00<?, ?B/s]"
            ],
            "application/vnd.jupyter.widget-view+json": {
              "version_major": 2,
              "version_minor": 0,
              "model_id": "6eeae62b1e4842d7a1b8c78e99b275e5"
            }
          },
          "metadata": {}
        },
        {
          "output_type": "stream",
          "name": "stderr",
          "text": [
            "Some weights of the PyTorch model were not used when initializing the TF 2.0 model TFBertModel: ['cls.predictions.transform.dense.weight', 'cls.seq_relationship.bias', 'cls.predictions.bias', 'cls.predictions.transform.dense.bias', 'cls.predictions.transform.LayerNorm.bias', 'cls.predictions.transform.LayerNorm.weight', 'cls.seq_relationship.weight']\n",
            "- This IS expected if you are initializing TFBertModel from a PyTorch model trained on another task or with another architecture (e.g. initializing a TFBertForSequenceClassification model from a BertForPreTraining model).\n",
            "- This IS NOT expected if you are initializing TFBertModel from a PyTorch model that you expect to be exactly identical (e.g. initializing a TFBertForSequenceClassification model from a BertForSequenceClassification model).\n",
            "All the weights of TFBertModel were initialized from the PyTorch model.\n",
            "If your task is similar to the task the model of the checkpoint was trained on, you can already use TFBertModel for predictions without further training.\n"
          ]
        }
      ],
      "execution_count": null
    },
    {
      "cell_type": "code",
      "source": [
        "import tensorflow.keras.backend as K\n",
        "from tensorflow.keras.callbacks import EarlyStopping\n",
        "\n",
        "\n",
        "def recall_m(y_true, y_pred):\n",
        "    true_positives = K.sum(K.round(K.clip(y_true * y_pred, 0, 1)))\n",
        "    possible_positives = K.sum(K.round(K.clip(y_true, 0, 1)))\n",
        "    recall = true_positives / (possible_positives +\n",
        "    K.epsilon())\n",
        "    return recall\n",
        "\n",
        "def precision_m(y_true, y_pred):\n",
        "    true_positives = K.sum(K.round(K.clip(y_true * y_pred, 0, 1)))\n",
        "    predicted_positives = K.sum(K.round(K.clip(y_pred, 0, 1)))\n",
        "    precision = true_positives / (predicted_positives + K.epsilon())\n",
        "    return precision\n",
        "\n",
        "def f1_m(y_true, y_pred):\n",
        "    precision = precision_m(y_true, y_pred)\n",
        "    recall = recall_m(y_true, y_pred)\n",
        "    return 2*((precision*recall)/(precision+recall+K.epsilon()))\n",
        "\n",
        "early_stopping = EarlyStopping(\n",
        "    monitor='val_accuracy',\n",
        "    patience=5,\n",
        "    restore_best_weights=True\n",
        ")\n",
        "\n",
        "model = Sequential()\n",
        "model.add(Input(shape=(768,)))\n",
        "model.add(Dense(256, activation = 'relu'))\n",
        "model.add(Dropout(0.3))\n",
        "model.add(Dense(3, activation = 'softmax'))\n",
        "\n",
        "model.compile(optimizer = 'Adam', loss = 'sparse_categorical_crossentropy', metrics = ['accuracy'])\n",
        "\n",
        "history = model.fit(embeddings_train, classes_train, epochs = 20, batch_size = 64, validation_split = 0.2,\n",
        "                   callbacks = [early_stopping])\n",
        "\n",
        "plt.plot(history.history['accuracy'], label = 'train')\n",
        "plt.plot(history.history['val_accuracy'], label = 'validation')\n",
        "plt.xlabel('Epochs')\n",
        "plt.ylabel('Accuracy')\n",
        "plt.title('Training accuracy vs. Epochs')\n",
        "plt.legend()\n",
        "plt.show()\n",
        "\n",
        "predictions = model.predict(embeddings_test)\n",
        "predictions = predictions.argmax(axis = 1)\n",
        "\n",
        "print(classification_report(classes_test, predictions))\n",
        "\n"
      ],
      "metadata": {
        "execution": {
          "iopub.status.busy": "2024-09-28T05:47:00.969521Z",
          "iopub.execute_input": "2024-09-28T05:47:00.969886Z",
          "iopub.status.idle": "2024-09-28T05:47:11.063795Z",
          "shell.execute_reply.started": "2024-09-28T05:47:00.969855Z",
          "shell.execute_reply": "2024-09-28T05:47:11.062896Z"
        },
        "trusted": true,
        "id": "oKzf4xPbgckb",
        "outputId": "10ddd104-83f1-4428-a5e9-733c7c546952",
        "colab": {
          "base_uri": "https://localhost:8080/",
          "height": 1000
        }
      },
      "outputs": [
        {
          "output_type": "stream",
          "name": "stdout",
          "text": [
            "Epoch 1/20\n",
            "\u001b[1m276/276\u001b[0m \u001b[32m━━━━━━━━━━━━━━━━━━━━\u001b[0m\u001b[37m\u001b[0m \u001b[1m5s\u001b[0m 11ms/step - accuracy: 0.8082 - loss: 0.5220 - val_accuracy: 0.8397 - val_loss: 0.4198\n",
            "Epoch 2/20\n",
            "\u001b[1m276/276\u001b[0m \u001b[32m━━━━━━━━━━━━━━━━━━━━\u001b[0m\u001b[37m\u001b[0m \u001b[1m1s\u001b[0m 2ms/step - accuracy: 0.8466 - loss: 0.4221 - val_accuracy: 0.8375 - val_loss: 0.4263\n",
            "Epoch 3/20\n",
            "\u001b[1m276/276\u001b[0m \u001b[32m━━━━━━━━━━━━━━━━━━━━\u001b[0m\u001b[37m\u001b[0m \u001b[1m1s\u001b[0m 2ms/step - accuracy: 0.8538 - loss: 0.3963 - val_accuracy: 0.8506 - val_loss: 0.4085\n",
            "Epoch 4/20\n",
            "\u001b[1m276/276\u001b[0m \u001b[32m━━━━━━━━━━━━━━━━━━━━\u001b[0m\u001b[37m\u001b[0m \u001b[1m1s\u001b[0m 2ms/step - accuracy: 0.8575 - loss: 0.3863 - val_accuracy: 0.8418 - val_loss: 0.4145\n",
            "Epoch 5/20\n",
            "\u001b[1m276/276\u001b[0m \u001b[32m━━━━━━━━━━━━━━━━━━━━\u001b[0m\u001b[37m\u001b[0m \u001b[1m1s\u001b[0m 2ms/step - accuracy: 0.8607 - loss: 0.3703 - val_accuracy: 0.8422 - val_loss: 0.4104\n",
            "Epoch 6/20\n",
            "\u001b[1m276/276\u001b[0m \u001b[32m━━━━━━━━━━━━━━━━━━━━\u001b[0m\u001b[37m\u001b[0m \u001b[1m1s\u001b[0m 2ms/step - accuracy: 0.8637 - loss: 0.3642 - val_accuracy: 0.8524 - val_loss: 0.3957\n",
            "Epoch 7/20\n",
            "\u001b[1m276/276\u001b[0m \u001b[32m━━━━━━━━━━━━━━━━━━━━\u001b[0m\u001b[37m\u001b[0m \u001b[1m1s\u001b[0m 2ms/step - accuracy: 0.8667 - loss: 0.3545 - val_accuracy: 0.8522 - val_loss: 0.4045\n",
            "Epoch 8/20\n",
            "\u001b[1m276/276\u001b[0m \u001b[32m━━━━━━━━━━━━━━━━━━━━\u001b[0m\u001b[37m\u001b[0m \u001b[1m1s\u001b[0m 2ms/step - accuracy: 0.8683 - loss: 0.3407 - val_accuracy: 0.8429 - val_loss: 0.4269\n",
            "Epoch 9/20\n",
            "\u001b[1m276/276\u001b[0m \u001b[32m━━━━━━━━━━━━━━━━━━━━\u001b[0m\u001b[37m\u001b[0m \u001b[1m1s\u001b[0m 2ms/step - accuracy: 0.8708 - loss: 0.3400 - val_accuracy: 0.8481 - val_loss: 0.3971\n",
            "Epoch 10/20\n",
            "\u001b[1m276/276\u001b[0m \u001b[32m━━━━━━━━━━━━━━━━━━━━\u001b[0m\u001b[37m\u001b[0m \u001b[1m1s\u001b[0m 2ms/step - accuracy: 0.8808 - loss: 0.3242 - val_accuracy: 0.8560 - val_loss: 0.4021\n",
            "Epoch 11/20\n",
            "\u001b[1m276/276\u001b[0m \u001b[32m━━━━━━━━━━━━━━━━━━━━\u001b[0m\u001b[37m\u001b[0m \u001b[1m1s\u001b[0m 2ms/step - accuracy: 0.8784 - loss: 0.3219 - val_accuracy: 0.8558 - val_loss: 0.3970\n",
            "Epoch 12/20\n",
            "\u001b[1m276/276\u001b[0m \u001b[32m━━━━━━━━━━━━━━━━━━━━\u001b[0m\u001b[37m\u001b[0m \u001b[1m1s\u001b[0m 2ms/step - accuracy: 0.8828 - loss: 0.3095 - val_accuracy: 0.8594 - val_loss: 0.3970\n",
            "Epoch 13/20\n",
            "\u001b[1m276/276\u001b[0m \u001b[32m━━━━━━━━━━━━━━━━━━━━\u001b[0m\u001b[37m\u001b[0m \u001b[1m1s\u001b[0m 2ms/step - accuracy: 0.8877 - loss: 0.3044 - val_accuracy: 0.8565 - val_loss: 0.4025\n",
            "Epoch 14/20\n",
            "\u001b[1m276/276\u001b[0m \u001b[32m━━━━━━━━━━━━━━━━━━━━\u001b[0m\u001b[37m\u001b[0m \u001b[1m1s\u001b[0m 2ms/step - accuracy: 0.8861 - loss: 0.2983 - val_accuracy: 0.8443 - val_loss: 0.4334\n",
            "Epoch 15/20\n",
            "\u001b[1m276/276\u001b[0m \u001b[32m━━━━━━━━━━━━━━━━━━━━\u001b[0m\u001b[37m\u001b[0m \u001b[1m1s\u001b[0m 2ms/step - accuracy: 0.8921 - loss: 0.2838 - val_accuracy: 0.8606 - val_loss: 0.3973\n",
            "Epoch 16/20\n",
            "\u001b[1m276/276\u001b[0m \u001b[32m━━━━━━━━━━━━━━━━━━━━\u001b[0m\u001b[37m\u001b[0m \u001b[1m1s\u001b[0m 3ms/step - accuracy: 0.9031 - loss: 0.2632 - val_accuracy: 0.8565 - val_loss: 0.4078\n",
            "Epoch 17/20\n",
            "\u001b[1m276/276\u001b[0m \u001b[32m━━━━━━━━━━━━━━━━━━━━\u001b[0m\u001b[37m\u001b[0m \u001b[1m1s\u001b[0m 3ms/step - accuracy: 0.8997 - loss: 0.2628 - val_accuracy: 0.8522 - val_loss: 0.4086\n",
            "Epoch 18/20\n",
            "\u001b[1m276/276\u001b[0m \u001b[32m━━━━━━━━━━━━━━━━━━━━\u001b[0m\u001b[37m\u001b[0m \u001b[1m1s\u001b[0m 4ms/step - accuracy: 0.9048 - loss: 0.2568 - val_accuracy: 0.8431 - val_loss: 0.4297\n",
            "Epoch 19/20\n",
            "\u001b[1m276/276\u001b[0m \u001b[32m━━━━━━━━━━━━━━━━━━━━\u001b[0m\u001b[37m\u001b[0m \u001b[1m1s\u001b[0m 3ms/step - accuracy: 0.9026 - loss: 0.2527 - val_accuracy: 0.8477 - val_loss: 0.4534\n",
            "Epoch 20/20\n",
            "\u001b[1m276/276\u001b[0m \u001b[32m━━━━━━━━━━━━━━━━━━━━\u001b[0m\u001b[37m\u001b[0m \u001b[1m1s\u001b[0m 2ms/step - accuracy: 0.9110 - loss: 0.2397 - val_accuracy: 0.8526 - val_loss: 0.4315\n"
          ]
        },
        {
          "output_type": "display_data",
          "data": {
            "text/plain": [
              "<Figure size 640x480 with 1 Axes>"
            ],
            "image/png": "[encoded data removed]"
          },
          "metadata": {}
        },
        {
          "output_type": "stream",
          "name": "stdout",
          "text": [
            "\u001b[1m77/77\u001b[0m \u001b[32m━━━━━━━━━━━━━━━━━━━━\u001b[0m\u001b[37m\u001b[0m \u001b[1m0s\u001b[0m 4ms/step\n",
            "              precision    recall  f1-score   support\n",
            "\n",
            "         0.0       0.48      0.09      0.15       144\n",
            "         1.0       0.89      0.95      0.92      1913\n",
            "         2.0       0.74      0.71      0.72       394\n",
            "\n",
            "    accuracy                           0.86      2451\n",
            "   macro avg       0.70      0.58      0.60      2451\n",
            "weighted avg       0.84      0.86      0.84      2451\n",
            "\n"
          ]
        }
      ],
      "execution_count": null
    },
    {
      "cell_type": "code",
      "source": [
        "\n",
        "# Define a mapping from class numbers to labels\n",
        "class_mapping = {\n",
        "    0: \"Hate speech\",\n",
        "    1: \"Offensive language\",\n",
        "    2: \"neither\"\n",
        "}\n",
        "\n",
        "# Function to preprocess and predict a single input\n",
        "def predict_single_input(text):\n",
        "    # Step 1: Clean the input text\n",
        "    cleaned_text = clean(text)\n",
        "\n",
        "    # Step 2: Encode the cleaned text with BERT tokenizer\n",
        "    tokenized_tweet = tokenizer(\n",
        "        [cleaned_text],\n",
        "        max_length=128,\n",
        "        padding=True,\n",
        "        truncation=True,\n",
        "        return_tensors='tf'\n",
        "    )\n",
        "\n",
        "    # Prepare inputs for the BERT model\n",
        "    inputs = {\n",
        "        'input_ids': tokenized_tweet['input_ids'],\n",
        "        'attention_mask': tokenized_tweet['attention_mask']\n",
        "    }\n",
        "\n",
        "    # Step 3: Get the BERT embeddings\n",
        "    bert_output = bert_model(**inputs)\n",
        "    embedding = bert_output.last_hidden_state[:, 0, :]\n",
        "\n",
        "    # Step 4: Predict using the trained model\n",
        "    prediction = model.predict(embedding)\n",
        "    predicted_class = prediction.argmax(axis=1)[0]\n",
        "\n",
        "    # Step 5: Decode the predicted class to human-readable label\n",
        "    predicted_label = class_mapping[predicted_class]\n",
        "\n",
        "    return predicted_label\n",
        "\n",
        "# Example usage\n",
        "text_input = \"\"\n",
        "predicted_label = predict_single_input(text_input)\n",
        "print(f\"Predicted Label: {predicted_label}\")\n"
      ],
      "metadata": {
        "execution": {
          "iopub.status.busy": "2024-09-28T05:47:32.835963Z",
          "iopub.execute_input": "2024-09-28T05:47:32.836639Z",
          "iopub.status.idle": "2024-09-28T05:47:33.17487Z",
          "shell.execute_reply.started": "2024-09-28T05:47:32.836603Z",
          "shell.execute_reply": "2024-09-28T05:47:33.173966Z"
        },
        "trusted": true,
        "id": "JE8af2tzgckb",
        "outputId": "0d947065-8052-43d1-d988-2a06de1a91cb",
        "colab": {
          "base_uri": "https://localhost:8080/"
        }
      },
      "outputs": [
        {
          "output_type": "stream",
          "name": "stdout",
          "text": [
            "\u001b[1m1/1\u001b[0m \u001b[32m━━━━━━━━━━━━━━━━━━━━\u001b[0m\u001b[37m\u001b[0m \u001b[1m0s\u001b[0m 17ms/step\n",
            "Predicted Label: Hate speech\n"
          ]
        }
      ],
      "execution_count": null
    },
    {
      "cell_type": "code",
      "source": [
        "!pip install transformers tensorflow\n"
      ],
      "metadata": {
        "id": "ZINjZbkFE_kJ",
        "outputId": "f315e0c4-4869-4822-bd46-e117d0999098",
        "colab": {
          "base_uri": "https://localhost:8080/"
        }
      },
      "execution_count": null,
      "outputs": [
        {
          "output_type": "stream",
          "name": "stdout",
          "text": [
            "Requirement already satisfied: transformers in /usr/local/lib/python3.10/dist-packages (4.47.1)\n",
            "Requirement already satisfied: tensorflow in /usr/local/lib/python3.10/dist-packages (2.17.1)\n",
            "Requirement already satisfied: filelock in /usr/local/lib/python3.10/dist-packages (from transformers) (3.16.1)\n",
            "Requirement already satisfied: huggingface-hub<1.0,>=0.24.0 in /usr/local/lib/python3.10/dist-packages (from transformers) (0.27.0)\n",
            "Requirement already satisfied: numpy>=1.17 in /usr/local/lib/python3.10/dist-packages (from transformers) (1.26.4)\n",
            "Requirement already satisfied: packaging>=20.0 in /usr/local/lib/python3.10/dist-packages (from transformers) (24.2)\n",
            "Requirement already satisfied: pyyaml>=5.1 in /usr/local/lib/python3.10/dist-packages (from transformers) (6.0.2)\n",
            "Requirement already satisfied: regex!=2019.12.17 in /usr/local/lib/python3.10/dist-packages (from transformers) (2024.11.6)\n",
            "Requirement already satisfied: requests in /usr/local/lib/python3.10/dist-packages (from transformers) (2.32.3)\n",
            "Requirement already satisfied: tokenizers<0.22,>=0.21 in /usr/local/lib/python3.10/dist-packages (from transformers) (0.21.0)\n",
            "Requirement already satisfied: safetensors>=0.4.1 in /usr/local/lib/python3.10/dist-packages (from transformers) (0.4.5)\n",
            "Requirement already satisfied: tqdm>=4.27 in /usr/local/lib/python3.10/dist-packages (from transformers) (4.67.1)\n",
            "Requirement already satisfied: absl-py>=1.0.0 in /usr/local/lib/python3.10/dist-packages (from tensorflow) (1.4.0)\n",
            "Requirement already satisfied: astunparse>=1.6.0 in /usr/local/lib/python3.10/dist-packages (from tensorflow) (1.6.3)\n",
            "Requirement already satisfied: flatbuffers>=24.3.25 in /usr/local/lib/python3.10/dist-packages (from tensorflow) (24.3.25)\n",
            "Requirement already satisfied: gast!=0.5.0,!=0.5.1,!=0.5.2,>=0.2.1 in /usr/local/lib/python3.10/dist-packages (from tensorflow) (0.6.0)\n",
            "Requirement already satisfied: google-pasta>=0.1.1 in /usr/local/lib/python3.10/dist-packages (from tensorflow) (0.2.0)\n",
            "Requirement already satisfied: h5py>=3.10.0 in /usr/local/lib/python3.10/dist-packages (from tensorflow) (3.12.1)\n",
            "Requirement already satisfied: libclang>=13.0.0 in /usr/local/lib/python3.10/dist-packages (from tensorflow) (18.1.1)\n",
            "Requirement already satisfied: ml-dtypes<0.5.0,>=0.3.1 in /usr/local/lib/python3.10/dist-packages (from tensorflow) (0.4.1)\n",
            "Requirement already satisfied: opt-einsum>=2.3.2 in /usr/local/lib/python3.10/dist-packages (from tensorflow) (3.4.0)\n",
            "Requirement already satisfied: protobuf!=4.21.0,!=4.21.1,!=4.21.2,!=4.21.3,!=4.21.4,!=4.21.5,<5.0.0dev,>=3.20.3 in /usr/local/lib/python3.10/dist-packages (from tensorflow) (4.25.5)\n",
            "Requirement already satisfied: setuptools in /usr/local/lib/python3.10/dist-packages (from tensorflow) (75.1.0)\n",
            "Requirement already satisfied: six>=1.12.0 in /usr/local/lib/python3.10/dist-packages (from tensorflow) (1.17.0)\n",
            "Requirement already satisfied: termcolor>=1.1.0 in /usr/local/lib/python3.10/dist-packages (from tensorflow) (2.5.0)\n",
            "Requirement already satisfied: typing-extensions>=3.6.6 in /usr/local/lib/python3.10/dist-packages (from tensorflow) (4.12.2)\n",
            "Requirement already satisfied: wrapt>=1.11.0 in /usr/local/lib/python3.10/dist-packages (from tensorflow) (1.17.0)\n",
            "Requirement already satisfied: grpcio<2.0,>=1.24.3 in /usr/local/lib/python3.10/dist-packages (from tensorflow) (1.68.1)\n",
            "Requirement already satisfied: tensorboard<2.18,>=2.17 in /usr/local/lib/python3.10/dist-packages (from tensorflow) (2.17.1)\n",
            "Requirement already satisfied: keras>=3.2.0 in /usr/local/lib/python3.10/dist-packages (from tensorflow) (3.5.0)\n",
            "Requirement already satisfied: tensorflow-io-gcs-filesystem>=0.23.1 in /usr/local/lib/python3.10/dist-packages (from tensorflow) (0.37.1)\n",
            "Requirement already satisfied: wheel<1.0,>=0.23.0 in /usr/local/lib/python3.10/dist-packages (from astunparse>=1.6.0->tensorflow) (0.45.1)\n",
            "Requirement already satisfied: fsspec>=2023.5.0 in /usr/local/lib/python3.10/dist-packages (from huggingface-hub<1.0,>=0.24.0->transformers) (2024.10.0)\n",
            "Requirement already satisfied: rich in /usr/local/lib/python3.10/dist-packages (from keras>=3.2.0->tensorflow) (13.9.4)\n",
            "Requirement already satisfied: namex in /usr/local/lib/python3.10/dist-packages (from keras>=3.2.0->tensorflow) (0.0.8)\n",
            "Requirement already satisfied: optree in /usr/local/lib/python3.10/dist-packages (from keras>=3.2.0->tensorflow) (0.13.1)\n",
            "Requirement already satisfied: charset-normalizer<4,>=2 in /usr/local/lib/python3.10/dist-packages (from requests->transformers) (3.4.0)\n",
            "Requirement already satisfied: idna<4,>=2.5 in /usr/local/lib/python3.10/dist-packages (from requests->transformers) (3.10)\n",
            "Requirement already satisfied: urllib3<3,>=1.21.1 in /usr/local/lib/python3.10/dist-packages (from requests->transformers) (2.2.3)\n",
            "Requirement already satisfied: certifi>=2017.4.17 in /usr/local/lib/python3.10/dist-packages (from requests->transformers) (2024.12.14)\n",
            "Requirement already satisfied: markdown>=2.6.8 in /usr/local/lib/python3.10/dist-packages (from tensorboard<2.18,>=2.17->tensorflow) (3.7)\n",
            "Requirement already satisfied: tensorboard-data-server<0.8.0,>=0.7.0 in /usr/local/lib/python3.10/dist-packages (from tensorboard<2.18,>=2.17->tensorflow) (0.7.2)\n",
            "Requirement already satisfied: werkzeug>=1.0.1 in /usr/local/lib/python3.10/dist-packages (from tensorboard<2.18,>=2.17->tensorflow) (3.1.3)\n",
            "Requirement already satisfied: MarkupSafe>=2.1.1 in /usr/local/lib/python3.10/dist-packages (from werkzeug>=1.0.1->tensorboard<2.18,>=2.17->tensorflow) (3.0.2)\n",
            "Requirement already satisfied: markdown-it-py>=2.2.0 in /usr/local/lib/python3.10/dist-packages (from rich->keras>=3.2.0->tensorflow) (3.0.0)\n",
            "Requirement already satisfied: pygments<3.0.0,>=2.13.0 in /usr/local/lib/python3.10/dist-packages (from rich->keras>=3.2.0->tensorflow) (2.18.0)\n",
            "Requirement already satisfied: mdurl~=0.1 in /usr/local/lib/python3.10/dist-packages (from markdown-it-py>=2.2.0->rich->keras>=3.2.0->tensorflow) (0.1.2)\n"
          ]
        }
      ]
    },
    {
      "cell_type": "code",
      "source": [
        "from transformers import BertTokenizer, TFBertModel\n",
        "import tensorflow as tf\n",
        "\n",
        "# Define a mapping from class numbers to labels\n",
        "class_mapping = {\n",
        "    0: \"Hate speech\",\n",
        "    1: \"Offensive language\",\n",
        "    2: \"Neither\"\n",
        "}\n",
        "\n",
        "# Load the BERT tokenizer and model\n",
        "tokenizer = BertTokenizer.from_pretrained(\"bert-base-uncased\")\n",
        "bert_model = TFBertModel.from_pretrained(\"bert-base-uncased\")\n",
        "\n",
        "# Assume the classification model is already trained and available in memory\n",
        "# Example: This model should be trained in the same script or session\n",
        "# model = ... (Your trained model here)\n",
        "\n",
        "# Define the clean function (example)\n",
        "def clean(text):\n",
        "    # Add your cleaning logic (e.g., removing special characters, lowercasing, etc.)\n",
        "    text = text.lower()\n",
        "    text = ''.join([c for c in text if c.isalnum() or c.isspace()])\n",
        "    return text\n",
        "\n",
        "# Function to preprocess and predict a single input\n",
        "def predict_single_input(text):\n",
        "    # Step 1: Clean the input text\n",
        "    cleaned_text = clean(text)\n",
        "\n",
        "    # Step 2: Encode the cleaned text with BERT tokenizer\n",
        "    tokenized_tweet = tokenizer(\n",
        "        [cleaned_text],\n",
        "        max_length=128,\n",
        "        padding=True,\n",
        "        truncation=True,\n",
        "        return_tensors='tf'\n",
        "    )\n",
        "\n",
        "    # Prepare inputs for the BERT model\n",
        "    inputs = {\n",
        "        'input_ids': tokenized_tweet['input_ids'],\n",
        "        'attention_mask': tokenized_tweet['attention_mask']\n",
        "    }\n",
        "\n",
        "    # Step 3: Get the BERT embeddings\n",
        "    bert_output = bert_model(**inputs)\n",
        "    embedding = bert_output.last_hidden_state[:, 0, :]\n",
        "\n",
        "    # Step 4: Predict using the trained model (already in memory)\n",
        "    prediction = model.predict(embedding)\n",
        "    predicted_class = prediction.argmax(axis=1)[0]\n",
        "\n",
        "    # Step 5: Decode the predicted class to human-readable label\n",
        "    predicted_label = class_mapping[predicted_class]\n",
        "\n",
        "    return predicted_label\n",
        "\n",
        "# Example usage: Input a sentence for prediction\n",
        "text_input = input(\"Enter a sentence to classify: \")\n",
        "predicted_label = predict_single_input(text_input)\n",
        "print(f\"Predicted Label: {predicted_label}\")\n"
      ],
      "metadata": {
        "id": "EpvhOAqOGwfi",
        "outputId": "5f22b149-deca-4e5e-ffbc-e4c51a113628",
        "colab": {
          "base_uri": "https://localhost:8080/"
        }
      },
      "execution_count": null,
      "outputs": [
        {
          "output_type": "stream",
          "name": "stderr",
          "text": [
            "Some weights of the PyTorch model were not used when initializing the TF 2.0 model TFBertModel: ['cls.predictions.transform.dense.weight', 'cls.seq_relationship.bias', 'cls.predictions.bias', 'cls.predictions.transform.dense.bias', 'cls.predictions.transform.LayerNorm.bias', 'cls.predictions.transform.LayerNorm.weight', 'cls.seq_relationship.weight']\n",
            "- This IS expected if you are initializing TFBertModel from a PyTorch model trained on another task or with another architecture (e.g. initializing a TFBertForSequenceClassification model from a BertForPreTraining model).\n",
            "- This IS NOT expected if you are initializing TFBertModel from a PyTorch model that you expect to be exactly identical (e.g. initializing a TFBertForSequenceClassification model from a BertForSequenceClassification model).\n",
            "All the weights of TFBertModel were initialized from the PyTorch model.\n",
            "If your task is similar to the task the model of the checkpoint was trained on, you can already use TFBertModel for predictions without further training.\n"
          ]
        },
        {
          "output_type": "stream",
          "name": "stdout",
          "text": [
            "Enter a sentence to classify: As a woman you shouldn't complain about cleaning up your house\n",
            "\u001b[1m1/1\u001b[0m \u001b[32m━━━━━━━━━━━━━━━━━━━━\u001b[0m\u001b[37m\u001b[0m \u001b[1m0s\u001b[0m 25ms/step\n",
            "Predicted Label: Offensive language\n"
          ]
        }
      ]
    }
  ]
}